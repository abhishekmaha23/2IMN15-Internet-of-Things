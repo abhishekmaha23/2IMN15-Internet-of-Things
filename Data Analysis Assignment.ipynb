{
  "nbformat": 4,
  "nbformat_minor": 0,
  "metadata": {
    "kernelspec": {
      "display_name": "Python 3",
      "language": "python",
      "name": "python3"
    },
    "language_info": {
      "codemirror_mode": {
        "name": "ipython",
        "version": 3
      },
      "file_extension": ".py",
      "mimetype": "text/x-python",
      "name": "python",
      "nbconvert_exporter": "python",
      "pygments_lexer": "ipython3",
      "version": "3.6.9"
    },
    "toc": {
      "base_numbering": 1,
      "nav_menu": {},
      "number_sections": false,
      "sideBar": true,
      "skip_h1_title": false,
      "title_cell": "Table of Contents",
      "title_sidebar": "Contents",
      "toc_cell": false,
      "toc_position": {},
      "toc_section_display": true,
      "toc_window_display": true
    },
    "colab": {
      "name": "1306162_assignment_IoT.ipynb",
      "provenance": []
    }
  },
  "cells": [
    {
      "cell_type": "markdown",
      "metadata": {
        "id": "fnC6AhAdkdta"
      },
      "source": [
        "# Practical: Data Analysis\n",
        "\n",
        "In this assignment you will experiment with\n",
        "\n",
        "- exploring the data collected at a home and a weather station around the Eindhoven area,\n",
        "- building a predictive model for estimating the amount of electricity produced by the solar panels at the home given a weather forecast.\n",
        "\n",
        "This notebook will guide you through the typical steps that such work would involve. It shows how to build a simple linear model and your task is to improve on it, i.e. train a model that will provide a more accurate prediction than the simple one.\n",
        "\n",
        "#### Goal\n",
        "\n",
        "Your task is to train a model on the time series data containing:\n",
        "\n",
        "- measurements of the amount of electricity produced by the solar panels on the roof of a home in the Eindhoven area\n",
        "- weather measurements around the Eindhoven airport\n",
        "\n",
        "in order to predict the hourly solar panel output given the weather forecast for a particular hour of a particular day.\n",
        "\n",
        "#### Jupyter notebooks\n",
        "\n",
        "For those who are new to jupyter notebooks, a typical notebook contains text cells (like this one) interleaved with code cells (the gray boxes). You can execute a cell by selecting it and pressing Shift+Enter. The expression in the last line in a cell is the output of that cell. Try executing the following cell."
      ]
    },
    {
      "cell_type": "code",
      "metadata": {
        "ExecuteTime": {
          "end_time": "2020-01-17T20:44:15.137733Z",
          "start_time": "2020-01-17T20:44:15.123734Z"
        },
        "scrolled": true,
        "id": "LZSjZ6_4kdtc",
        "outputId": "33c0af4c-0ea0-47b6-cf8e-4c39ebd9560f"
      },
      "source": [
        "def add(a, b):\n",
        "    return a + b\n",
        "\n",
        "add(1,2)"
      ],
      "execution_count": null,
      "outputs": [
        {
          "output_type": "execute_result",
          "data": {
            "text/plain": [
              "3"
            ]
          },
          "metadata": {
            "tags": []
          },
          "execution_count": 1
        }
      ]
    },
    {
      "cell_type": "markdown",
      "metadata": {
        "id": "O9opQXrEkdte"
      },
      "source": [
        "You can find out more about jupyter notbooks at:\n",
        "\n",
        "- https://jupyter-notebook-beginner-guide.readthedocs.io/en/latest/\n",
        "- http://nbviewer.jupyter.org/github/jupyter/notebook/blob/master/docs/source/examples/Notebook/Notebook%20Basics.ipynb\n",
        "- http://nbviewer.jupyter.org/github/jupyter/notebook/tree/master/docs/source/examples/Notebook/\n",
        "\n",
        "#### References\n",
        "\n",
        "The \"Python Data Scinence Handbook\" provides a good overview of using python for data data analysis and you are encouraged to consult it during this assignment:\n",
        "\n",
        "- https://jakevdp.github.io/PythonDataScienceHandbook/\n",
        "\n",
        "The \"Introduction to Statistical Learning\" [ISLR] (7th edition) book provides a good introduction to machine learning from the statistical perspective:\n",
        "\n",
        "- http://faculty.marshall.usc.edu/gareth-james/ISL/\n",
        "\n",
        "The \"Dataset Shift in Machine Learning\" book by Joaquin Quiñonero-Candela, Masashi Sugiyama, Anton Schwaighofer and Neil D. Lawrence provides a good overview of the problems that may arise when the test and training inputs and outputs have different distributions. You can find more information about the book at:\n",
        "\n",
        "- https://mitpress.mit.edu/books/dataset-shift-machine-learning\n",
        "\n",
        "#### Deliverable\n",
        "\n",
        "Throughout this notebook you will find cells starting with `#TODO` and `#BEGIN_TODO`. Fill in all these TODO cells. The `#TODO` cells are meant to guide you, while the `#BEGIN_TODO` _answer cells_ will be graded.\n",
        "\n",
        "- Answer cells start and end with tags, `# // BEGIN_TODO [Q0]` and `# // END_TODO [Q0]`, for example. Do not edit these tags in any way, else your answers may not be parsed by our grading system. \n",
        "- Your answers should be provided in Python code format between the tag lines, for example:\n",
        "```\n",
        "# // BEGIN_TODO [Q0]\n",
        "q0 = 1\n",
        "# // END_TODO [Q0]\n",
        "```\n",
        "- Do not place any other code between the tags, unless explicitly requested.\n",
        "- Do not reuse the variable names from the answer cells, so do not use `q0`, `q1`, etc in other cells.\n",
        "- If a question asks you to provide more than one answer, give the answer in the form of a list: `q0 = [1, 2]`. \n",
        "\n",
        "You are encouraged to play with the data and extend this notebook in order to obtain your answers. You may insert cells at any point in the notebook, as long as the question cells remain unaltered. At the end, deliver the filled in `assignment.ipynb` file.\n",
        "\n",
        "> **IMPORTANT:** Before delivering your notebook, make sure that the cells in your notebook can be executed in sequence without errors, by executing \"Restart & Run All\" from the \"Kernel\" menu. This is also how your notebook will be evaluated.\n",
        "\n",
        "Let's get started by filling in your details in the following answer cell. Assign your names and student ids to variables `name_student1`, `id_student1`, `name_student2`, `id_student2`, e.g.:\n",
        "\n",
        "```\n",
        "# // BEGIN_TODO [Q0]\n",
        "name_student1 = \"John Smith\"\n",
        "id_student1 = \"1234567\"\n",
        "name_student2 = \"Jane Miller\"\n",
        "id_student2 = \"7654321\"\n",
        "# // END_TODO [Q0]\n",
        "```"
      ]
    },
    {
      "cell_type": "code",
      "metadata": {
        "ExecuteTime": {
          "end_time": "2020-01-17T20:44:15.143876Z",
          "start_time": "2020-01-17T20:44:15.140734Z"
        },
        "id": "mdYzlyMCkdtf"
      },
      "source": [
        "#// BEGIN_TODO [Q0]\n",
        "name_student1 = \"Abhishek Mahadevan Raju\"\n",
        "id_student1 = \"1306162\"\n",
        "#// END_TODO [Q0]"
      ],
      "execution_count": null,
      "outputs": []
    },
    {
      "cell_type": "markdown",
      "metadata": {
        "id": "b6UOIKPWkdtg"
      },
      "source": [
        "### Import the relevant libraries\n",
        "\n",
        "In this assignment we will be using mainly the following libraries:\n",
        "\n",
        "- `pandas` for organizing the data\n",
        "- `numpy` for operating on the data\n",
        "- `matplotlib` for visualizing the data\n",
        "- `sklearn` for training and evaluating a model on the data\n",
        "- other utility libraries"
      ]
    },
    {
      "cell_type": "code",
      "metadata": {
        "ExecuteTime": {
          "end_time": "2020-01-17T20:44:16.455741Z",
          "start_time": "2020-01-17T20:44:15.147733Z"
        },
        "id": "YzAZJH8Dkdth"
      },
      "source": [
        "%matplotlib inline\n",
        "import matplotlib.pyplot as plt\n",
        "import pandas as pd\n",
        "import numpy as np\n",
        "from sklearn.linear_model import *\n",
        "from sklearn.metrics import *\n",
        "from sklearn.model_selection import *\n",
        "import glob"
      ],
      "execution_count": null,
      "outputs": []
    },
    {
      "cell_type": "code",
      "metadata": {
        "ExecuteTime": {
          "end_time": "2020-01-17T20:44:16.468746Z",
          "start_time": "2020-01-17T20:44:16.458735Z"
        },
        "id": "fu_c52UXkdti"
      },
      "source": [
        "from sklearn.neural_network import *"
      ],
      "execution_count": null,
      "outputs": []
    },
    {
      "cell_type": "markdown",
      "metadata": {
        "id": "RxGXcFSbkdti"
      },
      "source": [
        "### Read the data\n",
        "\n",
        "The data resides in two files:"
      ]
    },
    {
      "cell_type": "code",
      "metadata": {
        "ExecuteTime": {
          "end_time": "2020-01-17T20:44:18.600259Z",
          "start_time": "2020-01-17T20:44:16.470735Z"
        },
        "scrolled": false,
        "id": "8W-R0RSqkdtj",
        "outputId": "0f6affe1-0254-4167-d0c1-1eb4530898c2"
      },
      "source": [
        "raw_energy = pd.read_csv(\"./data/energy_train.csv\")\n",
        "raw_energy.head()"
      ],
      "execution_count": null,
      "outputs": [
        {
          "output_type": "stream",
          "text": [
            "d:\\software\\anaconda3\\envs\\mlagents_1\\lib\\site-packages\\IPython\\core\\interactiveshell.py:3058: DtypeWarning: Columns (5) have mixed types. Specify dtype option on import or set low_memory=False.\n",
            "  interactivity=interactivity, compiler=compiler, result=result)\n"
          ],
          "name": "stderr"
        },
        {
          "output_type": "execute_result",
          "data": {
            "text/html": [
              "<div>\n",
              "<style scoped>\n",
              "    .dataframe tbody tr th:only-of-type {\n",
              "        vertical-align: middle;\n",
              "    }\n",
              "\n",
              "    .dataframe tbody tr th {\n",
              "        vertical-align: top;\n",
              "    }\n",
              "\n",
              "    .dataframe thead th {\n",
              "        text-align: right;\n",
              "    }\n",
              "</style>\n",
              "<table border=\"1\" class=\"dataframe\">\n",
              "  <thead>\n",
              "    <tr style=\"text-align: right;\">\n",
              "      <th></th>\n",
              "      <th>date</th>\n",
              "      <th>time</th>\n",
              "      <th>seconds</th>\n",
              "      <th>total_consumption</th>\n",
              "      <th>total_production</th>\n",
              "      <th>solar_production</th>\n",
              "      <th>total_solar_production</th>\n",
              "      <th>year</th>\n",
              "    </tr>\n",
              "  </thead>\n",
              "  <tbody>\n",
              "    <tr>\n",
              "      <th>0</th>\n",
              "      <td>2017-01-01</td>\n",
              "      <td>01:00:01</td>\n",
              "      <td>1483228801</td>\n",
              "      <td>13188.301</td>\n",
              "      <td>4499.785</td>\n",
              "      <td>0</td>\n",
              "      <td>4147.1</td>\n",
              "      <td>2017</td>\n",
              "    </tr>\n",
              "    <tr>\n",
              "      <th>1</th>\n",
              "      <td>2017-01-01</td>\n",
              "      <td>01:00:11</td>\n",
              "      <td>1483228811</td>\n",
              "      <td>13188.302</td>\n",
              "      <td>4499.785</td>\n",
              "      <td>0</td>\n",
              "      <td>4147.1</td>\n",
              "      <td>2017</td>\n",
              "    </tr>\n",
              "    <tr>\n",
              "      <th>2</th>\n",
              "      <td>2017-01-01</td>\n",
              "      <td>01:00:21</td>\n",
              "      <td>1483228821</td>\n",
              "      <td>13188.304</td>\n",
              "      <td>4499.785</td>\n",
              "      <td>0</td>\n",
              "      <td>4147.1</td>\n",
              "      <td>2017</td>\n",
              "    </tr>\n",
              "    <tr>\n",
              "      <th>3</th>\n",
              "      <td>2017-01-01</td>\n",
              "      <td>01:00:31</td>\n",
              "      <td>1483228831</td>\n",
              "      <td>13188.305</td>\n",
              "      <td>4499.785</td>\n",
              "      <td>0</td>\n",
              "      <td>4147.1</td>\n",
              "      <td>2017</td>\n",
              "    </tr>\n",
              "    <tr>\n",
              "      <th>4</th>\n",
              "      <td>2017-01-01</td>\n",
              "      <td>01:00:41</td>\n",
              "      <td>1483228841</td>\n",
              "      <td>13188.307</td>\n",
              "      <td>4499.785</td>\n",
              "      <td>0</td>\n",
              "      <td>4147.1</td>\n",
              "      <td>2017</td>\n",
              "    </tr>\n",
              "  </tbody>\n",
              "</table>\n",
              "</div>"
            ],
            "text/plain": [
              "         date       time     seconds  total_consumption  total_production  \\\n",
              "0  2017-01-01   01:00:01  1483228801          13188.301          4499.785   \n",
              "1  2017-01-01   01:00:11  1483228811          13188.302          4499.785   \n",
              "2  2017-01-01   01:00:21  1483228821          13188.304          4499.785   \n",
              "3  2017-01-01   01:00:31  1483228831          13188.305          4499.785   \n",
              "4  2017-01-01   01:00:41  1483228841          13188.307          4499.785   \n",
              "\n",
              "  solar_production  total_solar_production  year  \n",
              "0                0                  4147.1  2017  \n",
              "1                0                  4147.1  2017  \n",
              "2                0                  4147.1  2017  \n",
              "3                0                  4147.1  2017  \n",
              "4                0                  4147.1  2017  "
            ]
          },
          "metadata": {
            "tags": []
          },
          "execution_count": 5
        }
      ]
    },
    {
      "cell_type": "code",
      "metadata": {
        "ExecuteTime": {
          "end_time": "2020-01-17T20:44:18.680258Z",
          "start_time": "2020-01-17T20:44:18.604259Z"
        },
        "scrolled": false,
        "id": "RWTPhy3fkdtj",
        "outputId": "1211cab8-0ee7-4a30-ff3c-112d8fd43180"
      },
      "source": [
        "raw_weather = pd.read_csv(\"./data/weather_train.csv\")\n",
        "raw_weather.head()"
      ],
      "execution_count": null,
      "outputs": [
        {
          "output_type": "execute_result",
          "data": {
            "text/html": [
              "<div>\n",
              "<style scoped>\n",
              "    .dataframe tbody tr th:only-of-type {\n",
              "        vertical-align: middle;\n",
              "    }\n",
              "\n",
              "    .dataframe tbody tr th {\n",
              "        vertical-align: top;\n",
              "    }\n",
              "\n",
              "    .dataframe thead th {\n",
              "        text-align: right;\n",
              "    }\n",
              "</style>\n",
              "<table border=\"1\" class=\"dataframe\">\n",
              "  <thead>\n",
              "    <tr style=\"text-align: right;\">\n",
              "      <th></th>\n",
              "      <th>time</th>\n",
              "      <th>clouds</th>\n",
              "      <th>temperature</th>\n",
              "      <th>humidity</th>\n",
              "      <th>wind direction</th>\n",
              "      <th>wind speed</th>\n",
              "      <th>visibility</th>\n",
              "      <th>air pressure</th>\n",
              "      <th>year</th>\n",
              "    </tr>\n",
              "  </thead>\n",
              "  <tbody>\n",
              "    <tr>\n",
              "      <th>0</th>\n",
              "      <td>2017-01-01T00:00:00Z</td>\n",
              "      <td>0</td>\n",
              "      <td>-1.7</td>\n",
              "      <td>99.0</td>\n",
              "      <td>ZZW</td>\n",
              "      <td>3.0</td>\n",
              "      <td>197.0</td>\n",
              "      <td>1026.0</td>\n",
              "      <td>2017</td>\n",
              "    </tr>\n",
              "    <tr>\n",
              "      <th>1</th>\n",
              "      <td>2017-01-01T00:10:00Z</td>\n",
              "      <td>0</td>\n",
              "      <td>-1.7</td>\n",
              "      <td>99.0</td>\n",
              "      <td>ZZW</td>\n",
              "      <td>3.0</td>\n",
              "      <td>195.0</td>\n",
              "      <td>1025.8</td>\n",
              "      <td>2017</td>\n",
              "    </tr>\n",
              "    <tr>\n",
              "      <th>2</th>\n",
              "      <td>2017-01-01T00:20:00Z</td>\n",
              "      <td>0</td>\n",
              "      <td>-1.7</td>\n",
              "      <td>99.0</td>\n",
              "      <td>ZZW</td>\n",
              "      <td>3.0</td>\n",
              "      <td>271.0</td>\n",
              "      <td>1025.6</td>\n",
              "      <td>2017</td>\n",
              "    </tr>\n",
              "    <tr>\n",
              "      <th>3</th>\n",
              "      <td>2017-01-01T00:30:00Z</td>\n",
              "      <td>0</td>\n",
              "      <td>-1.6</td>\n",
              "      <td>99.0</td>\n",
              "      <td>Z</td>\n",
              "      <td>3.0</td>\n",
              "      <td>316.0</td>\n",
              "      <td>1025.4</td>\n",
              "      <td>2017</td>\n",
              "    </tr>\n",
              "    <tr>\n",
              "      <th>4</th>\n",
              "      <td>2017-01-01T00:40:00Z</td>\n",
              "      <td>0</td>\n",
              "      <td>-1.6</td>\n",
              "      <td>99.0</td>\n",
              "      <td>Z</td>\n",
              "      <td>3.0</td>\n",
              "      <td>334.0</td>\n",
              "      <td>1025.3</td>\n",
              "      <td>2017</td>\n",
              "    </tr>\n",
              "  </tbody>\n",
              "</table>\n",
              "</div>"
            ],
            "text/plain": [
              "                   time  clouds  temperature  humidity wind direction  \\\n",
              "0  2017-01-01T00:00:00Z       0         -1.7      99.0            ZZW   \n",
              "1  2017-01-01T00:10:00Z       0         -1.7      99.0            ZZW   \n",
              "2  2017-01-01T00:20:00Z       0         -1.7      99.0            ZZW   \n",
              "3  2017-01-01T00:30:00Z       0         -1.6      99.0              Z   \n",
              "4  2017-01-01T00:40:00Z       0         -1.6      99.0              Z   \n",
              "\n",
              "   wind speed  visibility  air pressure  year  \n",
              "0         3.0       197.0        1026.0  2017  \n",
              "1         3.0       195.0        1025.8  2017  \n",
              "2         3.0       271.0        1025.6  2017  \n",
              "3         3.0       316.0        1025.4  2017  \n",
              "4         3.0       334.0        1025.3  2017  "
            ]
          },
          "metadata": {
            "tags": []
          },
          "execution_count": 6
        }
      ]
    },
    {
      "cell_type": "markdown",
      "metadata": {
        "id": "TtG0MJEbkdtl"
      },
      "source": [
        "When analysing data it is important to understand its semantics. In IoT one needs to be extra careful, especially when integrating data from various sources. The very basic information are the units of the measurements, but also the specifications of the sensors gathering the data and the processes that are being monitored. For example, in this case the specification of the solar panel installation states that it can generate max 153k Jouls per minute.  \n",
        "\n",
        "Assume the following for the energy data:\n",
        "- `seconds` is the time the sample was recorded (UTC)\n",
        "- `total_consumption` is the total amount of electricity that was pulled from the grid (kWh)\n",
        "- `total_production` is the total amount of electricity that was pushed into the grid (kWh)\n",
        "- `solar_production` is the amount of eletricity that was produced since the last sample (Wh).\n",
        "- `total_solar_production` is the total amount of electricity produced by the solar panels (kWh)\n",
        "\n",
        "Assume the following for the weather data:\n",
        "- `time` is the time the sample was recorded (UTC)\n",
        "- `clouds` measures whether it was cloudy at the time when the sample was taken, ranging from 0-3, 0 meaning very cloudy and 3 meaning no clouds.\n",
        "- `temperature` is the still temperature (C)\n",
        "- ..."
      ]
    },
    {
      "cell_type": "markdown",
      "metadata": {
        "id": "p_oT3i5lkdtm"
      },
      "source": [
        "### Explore the data\n",
        "\n",
        "Exploration is usually the first step in any data analysis task. Visualization is an important tool for exploring the data. It gives insights into the structure and semantics of the data and indications for how to clean it.\n",
        "\n",
        "The `matplotlib` library provides a collection of useful plots, such as a line plot, scatter plot, histogram, scatter mattrix, etc. You can find out more about this library at \n",
        "\n",
        "- https://matplotlib.org/users/pyplot_tutorial.html\n",
        "- https://matplotlib.org/devdocs/gallery/\n",
        "\n",
        "The `pandas` library also contains convenient wrappers around the `matplotlib` library for visualizing data frames and series:\n",
        "\n",
        "- https://pandas.pydata.org/pandas-docs/stable/visualization.html\n",
        "\n",
        "Let's draw a simple plot of the energy data:"
      ]
    },
    {
      "cell_type": "code",
      "metadata": {
        "ExecuteTime": {
          "end_time": "2020-01-17T20:44:19.367492Z",
          "start_time": "2020-01-17T20:44:18.682259Z"
        },
        "id": "ADbihiXCkdtm",
        "outputId": "6b6dcc5b-70a4-4a57-8afd-19dd166c5466"
      },
      "source": [
        "X = raw_energy[\"seconds\"]\n",
        "Y = raw_energy[\"total_solar_production\"]\n",
        "plt.plot(X, Y)\n",
        "plt.axis([X.min(), X.max(), Y.min(), Y.max()])"
      ],
      "execution_count": null,
      "outputs": [
        {
          "output_type": "execute_result",
          "data": {
            "text/plain": [
              "[1483228801, 1527206393, 0.0, 8078.8]"
            ]
          },
          "metadata": {
            "tags": []
          },
          "execution_count": 7
        },
        {
          "output_type": "display_data",
          "data": {
            "image/png": "[encoded data removed]",
            "text/plain": [
              "<Figure size 432x288 with 1 Axes>"
            ]
          },
          "metadata": {
            "tags": [],
            "needs_background": "light"
          }
        }
      ]
    },
    {
      "cell_type": "code",
      "metadata": {
        "ExecuteTime": {
          "end_time": "2020-01-17T20:44:19.671293Z",
          "start_time": "2020-01-17T20:44:19.371467Z"
        },
        "id": "VxEbxKJukdtn",
        "outputId": "ff0f932e-8fb5-42ed-d13a-4e2d61bd0b87"
      },
      "source": [
        "# TODO: explore the values in different columns (experiment with different visualizations, e.g. line, histogram, ...)\n",
        "X = raw_weather.index\n",
        "Y = raw_weather['air pressure']\n",
        "plt.plot(X, Y)\n",
        "plt.axis([X.min(), X.max(), Y.min(), Y.max()])"
      ],
      "execution_count": null,
      "outputs": [
        {
          "output_type": "execute_result",
          "data": {
            "text/plain": [
              "[0, 32833, 981.0, 1041.5]"
            ]
          },
          "metadata": {
            "tags": []
          },
          "execution_count": 8
        },
        {
          "output_type": "display_data",
          "data": {
            "image/png": "[encoded data removed]",
            "text/plain": [
              "<Figure size 432x288 with 1 Axes>"
            ]
          },
          "metadata": {
            "tags": [],
            "needs_background": "light"
          }
        }
      ]
    },
    {
      "cell_type": "code",
      "metadata": {
        "ExecuteTime": {
          "end_time": "2020-01-17T20:44:19.955464Z",
          "start_time": "2020-01-17T20:44:19.673283Z"
        },
        "id": "T9gNiMe0kdtn",
        "outputId": "7d2589ff-df8d-41cb-a6f7-fdc5f6e47a08"
      },
      "source": [
        "X = raw_weather.index\n",
        "Y = raw_weather['humidity']\n",
        "plt.plot(X, Y)\n",
        "plt.axis([X.min(), X.max(), Y.min(), Y.max()])"
      ],
      "execution_count": null,
      "outputs": [
        {
          "output_type": "execute_result",
          "data": {
            "text/plain": [
              "[0, 32833, 25.0, 100.0]"
            ]
          },
          "metadata": {
            "tags": []
          },
          "execution_count": 9
        },
        {
          "output_type": "display_data",
          "data": {
            "image/png": "[encoded data removed]",
            "text/plain": [
              "<Figure size 432x288 with 1 Axes>"
            ]
          },
          "metadata": {
            "tags": [],
            "needs_background": "light"
          }
        }
      ]
    },
    {
      "cell_type": "code",
      "metadata": {
        "ExecuteTime": {
          "end_time": "2020-01-17T20:44:20.195390Z",
          "start_time": "2020-01-17T20:44:19.957466Z"
        },
        "id": "-qWBl6nFkdto",
        "outputId": "780db6fb-d425-40ee-d6fb-cf2eba56a712"
      },
      "source": [
        "X = raw_weather.index\n",
        "Y = raw_weather['temperature']\n",
        "plt.plot(X, Y)\n",
        "plt.axis([X.min(), X.max(), Y.min(), Y.max()])"
      ],
      "execution_count": null,
      "outputs": [
        {
          "output_type": "execute_result",
          "data": {
            "text/plain": [
              "[0, 32833, -8.3, 30.6]"
            ]
          },
          "metadata": {
            "tags": []
          },
          "execution_count": 10
        },
        {
          "output_type": "display_data",
          "data": {
            "image/png": "[encoded data removed]",
            "text/plain": [
              "<Figure size 432x288 with 1 Axes>"
            ]
          },
          "metadata": {
            "tags": [],
            "needs_background": "light"
          }
        }
      ]
    },
    {
      "cell_type": "code",
      "metadata": {
        "ExecuteTime": {
          "end_time": "2020-01-17T20:44:20.493472Z",
          "start_time": "2020-01-17T20:44:20.197353Z"
        },
        "id": "XswyJd6qkdto",
        "outputId": "6422b07f-1363-4bcf-8a50-2db5b011294d"
      },
      "source": [
        "X = raw_weather.index\n",
        "Y = raw_weather['visibility']\n",
        "plt.plot(X, Y)\n",
        "plt.axis([X.min(), X.max(), Y.min(), Y.max()])"
      ],
      "execution_count": null,
      "outputs": [
        {
          "output_type": "execute_result",
          "data": {
            "text/plain": [
              "[0, 32833, 44.0, 49900.0]"
            ]
          },
          "metadata": {
            "tags": []
          },
          "execution_count": 11
        },
        {
          "output_type": "display_data",
          "data": {
            "image/png": "[encoded data removed]",
            "text/plain": [
              "<Figure size 432x288 with 1 Axes>"
            ]
          },
          "metadata": {
            "tags": [],
            "needs_background": "light"
          }
        }
      ]
    },
    {
      "cell_type": "code",
      "metadata": {
        "ExecuteTime": {
          "end_time": "2020-01-17T20:44:20.803310Z",
          "start_time": "2020-01-17T20:44:20.496233Z"
        },
        "id": "BkUHO_g4kdto",
        "outputId": "9f48902b-f3db-4bbd-fce0-4f646916ca7b"
      },
      "source": [
        "X = raw_weather.index\n",
        "Y = raw_weather['wind direction']\n",
        "plt.plot(X, Y)\n",
        "plt.axis([X.min(), X.max(), Y.min(), Y.max()])"
      ],
      "execution_count": null,
      "outputs": [
        {
          "output_type": "execute_result",
          "data": {
            "text/plain": [
              "[0, 32833, 'N', 'ZZW']"
            ]
          },
          "metadata": {
            "tags": []
          },
          "execution_count": 12
        },
        {
          "output_type": "display_data",
          "data": {
            "image/png": "[encoded data removed]",
            "text/plain": [
              "<Figure size 432x288 with 1 Axes>"
            ]
          },
          "metadata": {
            "tags": [],
            "needs_background": "light"
          }
        }
      ]
    },
    {
      "cell_type": "markdown",
      "metadata": {
        "id": "L-Srm1Y5kdtp"
      },
      "source": [
        "### Question 1\n",
        "\n",
        "Simple visual inspection of the data can already tell you a lot about what you are working with. The data covers all of 2017 and 2018, because the data was split into training and test sets, some time ranges will be missing. Assign to `question_missing_months` below the numbers of the months that are missing from the training set (1 for January, 2 for February, ..., 12 for December). You will probably have to convert UTC timestamps."
      ]
    },
    {
      "cell_type": "code",
      "metadata": {
        "ExecuteTime": {
          "end_time": "2020-01-17T20:44:20.809308Z",
          "start_time": "2020-01-17T20:44:20.806306Z"
        },
        "id": "SAFDFmHKkdtp"
      },
      "source": [
        "#// BEGIN_TODO [Q1]\n",
        "#// END_TODO [Q1]"
      ],
      "execution_count": null,
      "outputs": []
    },
    {
      "cell_type": "code",
      "metadata": {
        "ExecuteTime": {
          "end_time": "2020-01-17T20:44:20.912235Z",
          "start_time": "2020-01-17T20:44:20.814307Z"
        },
        "id": "bm8pldC8kdtp"
      },
      "source": [
        "q1_raw_energy = raw_energy.copy()\n",
        "q1_raw_weather = raw_weather.copy()"
      ],
      "execution_count": null,
      "outputs": []
    },
    {
      "cell_type": "code",
      "metadata": {
        "ExecuteTime": {
          "end_time": "2020-01-17T20:44:26.565233Z",
          "start_time": "2020-01-17T20:44:20.915971Z"
        },
        "id": "GmzZYk9hkdtq",
        "outputId": "3fed7b34-9409-4d4a-aec3-2e117bf59249"
      },
      "source": [
        "# raw_energy has a date column, so that's easier\n",
        "# raw_weather has a time column, so that's not actually harder\n",
        "\n",
        "energy_months = q1_raw_energy['date'].str.split(\"-\", expand=True)[1].array\n",
        "print(energy_months.unique())\n",
        "\n",
        "weather_months = q1_raw_weather['time'].str.split(\"-\", expand=True)[1].array\n",
        "print(weather_months.unique())"
      ],
      "execution_count": null,
      "outputs": [
        {
          "output_type": "stream",
          "text": [
            "<PandasArray>\n",
            "['01', '02', '03', nan, '04', '05']\n",
            "Length: 6, dtype: object\n",
            "<PandasArray>\n",
            "['01', '02', '03', '04', '05']\n",
            "Length: 5, dtype: object\n"
          ],
          "name": "stdout"
        }
      ]
    },
    {
      "cell_type": "code",
      "metadata": {
        "ExecuteTime": {
          "end_time": "2020-01-17T20:44:26.737241Z",
          "start_time": "2020-01-17T20:44:26.567231Z"
        },
        "id": "35Q4ZPVjkdtq",
        "outputId": "fbccd864-87b2-451a-f5f5-87a10f4d7128"
      },
      "source": [
        "# dropna() is needed because of the presence of a nan value in the energy months\n",
        "final_energy_months = energy_months.unique().dropna().astype('int32')\n",
        "final_weather_months = weather_months.unique().dropna().astype('int32')\n",
        "print(final_energy_months)\n",
        "print(final_weather_months)\n",
        "# Since both are identical, one of them is assigned to question_missing_months \n",
        "question_current_months = final_energy_months.copy()\n",
        "question_missing_months = [6,7,8,9,10,11,12]\n",
        "print('The months in the training data are - ', question_missing_months)"
      ],
      "execution_count": null,
      "outputs": [
        {
          "output_type": "stream",
          "text": [
            "[1 2 3 4 5]\n",
            "[1 2 3 4 5]\n",
            "The months in the training data are -  [6, 7, 8, 9, 10, 11, 12]\n"
          ],
          "name": "stdout"
        }
      ]
    },
    {
      "cell_type": "markdown",
      "metadata": {
        "id": "v104PM1Okdtr"
      },
      "source": [
        "### Clean the data\n",
        "\n",
        "Data cleaning is an important part of any data analysis task. According to the general wisdom, most effort actually is spent on data cleaning. It involves preparing the data for the following steps, e.g. converting values to the right type, filling in missing values, removing outliers, normalizing the data, etc.\n",
        "\n",
        "In the plot above you will have noticed vertical lines. These lines correspond to 0 values and are likely to be measuring errors (e.g. the solar panel meter has crashed). Such outliers will often negatively impact the accuracy of the predictive model. However, care must be taken to properly define what constitutes an outlier and what constitutes a valid measurement. Some odd looking measurements may actually contain important evidence for proving or disproving a hypothesis. In this case the 0 values can be considered measurement errors and should be removed.\n",
        "\n",
        "Pandas provides convenient methods for selecting subsets of the data that can be used for removing outliers:\n",
        "\n",
        "- https://jakevdp.github.io/PythonDataScienceHandbook/03.02-data-indexing-and-selection.html"
      ]
    },
    {
      "cell_type": "code",
      "metadata": {
        "ExecuteTime": {
          "end_time": "2020-01-17T20:44:26.837441Z",
          "start_time": "2020-01-17T20:44:26.739244Z"
        },
        "id": "fM0Gpf-3kdtr"
      },
      "source": [
        "# TODO: remove the samples with production total of 0\n",
        "clean_raw_energy = raw_energy.copy()\n",
        "clean_raw_weather = raw_weather.copy()"
      ],
      "execution_count": null,
      "outputs": []
    },
    {
      "cell_type": "code",
      "metadata": {
        "ExecuteTime": {
          "end_time": "2020-01-17T20:44:27.246157Z",
          "start_time": "2020-01-17T20:44:26.839442Z"
        },
        "id": "_fT5AOo5kdts",
        "outputId": "165f09c3-b84f-461b-c622-715d76399b9d"
      },
      "source": [
        "# Also removing NaN values, seemed required\n",
        "print(clean_raw_energy)\n",
        "# print(clean_raw_energy['total_solar_production'].isna().value_counts())\n",
        "# print(clean_raw_energy[clean_raw_energy['total_solar_production'] == 0])\n",
        "# print(clean_raw_energy[clean_raw_energy['total_solar_production'].isna()])\n",
        "clean_raw_energy = clean_raw_energy[clean_raw_energy['total_solar_production'] != 0]\n",
        "clean_raw_energy = clean_raw_energy[~clean_raw_energy['total_solar_production'].isna()]\n",
        "print(clean_raw_energy)"
      ],
      "execution_count": null,
      "outputs": [
        {
          "output_type": "stream",
          "text": [
            "               date       time     seconds  total_consumption  \\\n",
            "0        2017-01-01   01:00:01  1483228801          13188.301   \n",
            "1        2017-01-01   01:00:11  1483228811          13188.302   \n",
            "2        2017-01-01   01:00:21  1483228821          13188.304   \n",
            "3        2017-01-01   01:00:31  1483228831          13188.305   \n",
            "4        2017-01-01   01:00:41  1483228841          13188.307   \n",
            "...             ...        ...         ...                ...   \n",
            "1987359  2018-05-25   01:59:23  1527206363          18343.591   \n",
            "1987360  2018-05-25   01:59:33  1527206373          18343.591   \n",
            "1987361  2018-05-25   01:59:43  1527206383          18343.592   \n",
            "1987362  2018-05-25   01:59:43  1527206383          18343.592   \n",
            "1987363  2018-05-25   01:59:53  1527206393          18343.593   \n",
            "\n",
            "         total_production solar_production  total_solar_production  year  \n",
            "0                4499.785                0                  4147.1  2017  \n",
            "1                4499.785                0                  4147.1  2017  \n",
            "2                4499.785                0                  4147.1  2017  \n",
            "3                4499.785                0                  4147.1  2017  \n",
            "4                4499.785                0                  4147.1  2017  \n",
            "...                   ...              ...                     ...   ...  \n",
            "1987359          6844.497                0                  8078.8  2018  \n",
            "1987360          6844.497                0                  8078.8  2018  \n",
            "1987361          6844.497                0                  8078.8  2018  \n",
            "1987362          6844.497                0                  8078.8  2018  \n",
            "1987363          6844.497                0                  8078.8  2018  \n",
            "\n",
            "[1987364 rows x 8 columns]\n",
            "               date       time     seconds  total_consumption  \\\n",
            "0        2017-01-01   01:00:01  1483228801          13188.301   \n",
            "1        2017-01-01   01:00:11  1483228811          13188.302   \n",
            "2        2017-01-01   01:00:21  1483228821          13188.304   \n",
            "3        2017-01-01   01:00:31  1483228831          13188.305   \n",
            "4        2017-01-01   01:00:41  1483228841          13188.307   \n",
            "...             ...        ...         ...                ...   \n",
            "1987359  2018-05-25   01:59:23  1527206363          18343.591   \n",
            "1987360  2018-05-25   01:59:33  1527206373          18343.591   \n",
            "1987361  2018-05-25   01:59:43  1527206383          18343.592   \n",
            "1987362  2018-05-25   01:59:43  1527206383          18343.592   \n",
            "1987363  2018-05-25   01:59:53  1527206393          18343.593   \n",
            "\n",
            "         total_production solar_production  total_solar_production  year  \n",
            "0                4499.785                0                  4147.1  2017  \n",
            "1                4499.785                0                  4147.1  2017  \n",
            "2                4499.785                0                  4147.1  2017  \n",
            "3                4499.785                0                  4147.1  2017  \n",
            "4                4499.785                0                  4147.1  2017  \n",
            "...                   ...              ...                     ...   ...  \n",
            "1987359          6844.497                0                  8078.8  2018  \n",
            "1987360          6844.497                0                  8078.8  2018  \n",
            "1987361          6844.497                0                  8078.8  2018  \n",
            "1987362          6844.497                0                  8078.8  2018  \n",
            "1987363          6844.497                0                  8078.8  2018  \n",
            "\n",
            "[1987248 rows x 8 columns]\n"
          ],
          "name": "stdout"
        }
      ]
    },
    {
      "cell_type": "markdown",
      "metadata": {
        "id": "6RjWo5Qnkdts"
      },
      "source": [
        "Data that is collected in the wild will sometimes contain formatting inconsistencies. It is a good habit to check the data types:"
      ]
    },
    {
      "cell_type": "code",
      "metadata": {
        "ExecuteTime": {
          "end_time": "2020-01-17T20:44:27.256198Z",
          "start_time": "2020-01-17T20:44:27.248157Z"
        },
        "id": "4e2PesN5kdtt",
        "outputId": "3e7322ff-8cb7-45f7-87a4-111c59067f1c"
      },
      "source": [
        "raw_energy.dtypes"
      ],
      "execution_count": null,
      "outputs": [
        {
          "output_type": "execute_result",
          "data": {
            "text/plain": [
              "date                       object\n",
              "time                       object\n",
              "seconds                     int64\n",
              "total_consumption         float64\n",
              "total_production          float64\n",
              "solar_production           object\n",
              "total_solar_production    float64\n",
              "year                        int64\n",
              "dtype: object"
            ]
          },
          "metadata": {
            "tags": []
          },
          "execution_count": 19
        }
      ]
    },
    {
      "cell_type": "markdown",
      "metadata": {
        "id": "pNV29KIAkdtt"
      },
      "source": [
        "As expected, the `'total_consumption'`, `'total_production'`, `'total_solar_production'` columns are of numerical type, however, the `solar_production` is of an `object` type (which is also used for strings), while looking at the specification of the column above we would expect a numerical type. Modeling this column later will require a numerical column, so it will need to be converted to the right type first."
      ]
    },
    {
      "cell_type": "code",
      "metadata": {
        "ExecuteTime": {
          "end_time": "2020-01-17T20:44:27.714498Z",
          "start_time": "2020-01-17T20:44:27.259160Z"
        },
        "id": "JzLtVUeKkdtt",
        "outputId": "4bf8b378-b9b7-4f11-b934-5f47e34183e5"
      },
      "source": [
        "# TODO: explore the offending values in the solar_production column\n",
        "print(raw_energy['solar_production'].value_counts())\n",
        "print(raw_energy[raw_energy['solar_production']==''])\n",
        "\n",
        "# Exploration shows that the strings are mainly differing through leading and trailing \n",
        "# spaces. These are fixed through direct conversion."
      ],
      "execution_count": null,
      "outputs": [
        {
          "output_type": "stream",
          "text": [
            "0        881564\n",
            "0        163532\n",
            " 0        21338\n",
            "72         8520\n",
            "9          7907\n",
            "          ...  \n",
            "2782         21\n",
            " 1119        21\n",
            " 972         14\n",
            " 1296         7\n",
            "1301          6\n",
            "Name: solar_production, Length: 4425, dtype: int64\n",
            "Empty DataFrame\n",
            "Columns: [date, time, seconds, total_consumption, total_production, solar_production, total_solar_production, year]\n",
            "Index: []\n"
          ],
          "name": "stdout"
        }
      ]
    },
    {
      "cell_type": "markdown",
      "metadata": {
        "id": "48ml1nF4kdtt"
      },
      "source": [
        "### Question 2\n",
        "\n",
        "Convert empty strings in the `'solar_production'` column to `np.nan`."
      ]
    },
    {
      "cell_type": "code",
      "metadata": {
        "ExecuteTime": {
          "end_time": "2020-01-17T20:44:27.719501Z",
          "start_time": "2020-01-17T20:44:27.716497Z"
        },
        "id": "4zTxw8eDkdtu"
      },
      "source": [
        "#// BEGIN_TODO [Q2]\n",
        "#// END_TODO [Q2]"
      ],
      "execution_count": null,
      "outputs": []
    },
    {
      "cell_type": "code",
      "metadata": {
        "ExecuteTime": {
          "end_time": "2020-01-17T20:44:27.924473Z",
          "start_time": "2020-01-17T20:44:27.722500Z"
        },
        "id": "kpVc2iYmkdtu",
        "outputId": "88623c5e-cd26-43f7-ffe2-1002d0a7cd29"
      },
      "source": [
        "# print(q2_energy['solar_production'])\n",
        "print(clean_raw_energy[clean_raw_energy['solar_production']== ''])\n",
        "# 0 cells with empty spaces"
      ],
      "execution_count": null,
      "outputs": [
        {
          "output_type": "stream",
          "text": [
            "Empty DataFrame\n",
            "Columns: [date, time, seconds, total_consumption, total_production, solar_production, total_solar_production, year]\n",
            "Index: []\n"
          ],
          "name": "stdout"
        }
      ]
    },
    {
      "cell_type": "code",
      "metadata": {
        "ExecuteTime": {
          "end_time": "2020-01-17T20:44:27.929474Z",
          "start_time": "2020-01-17T20:44:27.926472Z"
        },
        "id": "WNjnS3A9kdtu"
      },
      "source": [
        "# There's no empty strings in solar production"
      ],
      "execution_count": null,
      "outputs": []
    },
    {
      "cell_type": "markdown",
      "metadata": {
        "id": "Pk5YpbsKkdtv"
      },
      "source": [
        "### Question 3\n",
        "\n",
        "Convert the remaining values in the `'solar_production'` column to `float` type."
      ]
    },
    {
      "cell_type": "code",
      "metadata": {
        "ExecuteTime": {
          "end_time": "2020-01-17T20:44:28.307765Z",
          "start_time": "2020-01-17T20:44:27.932475Z"
        },
        "id": "vJZcb396kdtv",
        "outputId": "41dc8e0d-a487-49f5-9766-243cba8c51bf"
      },
      "source": [
        "#// BEGIN_TODO [Q3]\n",
        "clean_raw_energy = clean_raw_energy.astype({'solar_production': 'float64'})\n",
        "\n",
        "print(clean_raw_energy['solar_production'].value_counts())\n",
        "# The example of 0 from the previous cell shows that this has worked.\n",
        "# 881564 + 163532 + 21338 = 1066434\n",
        "\n",
        "#// END_TODO [Q3]"
      ],
      "execution_count": null,
      "outputs": [
        {
          "output_type": "stream",
          "text": [
            "0.0       1066434\n",
            "9.0         10141\n",
            "56.0         9643\n",
            "72.0         9591\n",
            "57.0         8380\n",
            "           ...   \n",
            "2855.0         28\n",
            "2846.0         28\n",
            "2365.0         28\n",
            "2761.0         28\n",
            "2782.0         21\n",
            "Name: solar_production, Length: 2705, dtype: int64\n"
          ],
          "name": "stdout"
        }
      ]
    },
    {
      "cell_type": "markdown",
      "metadata": {
        "id": "Av2t6J1Tkdtv"
      },
      "source": [
        "### Engineer features\n",
        "\n",
        "The goal of this assignment is to predict the hourly energy output of the solar panels given the weather forecast. This requires to relate the energy samples with the weather samples, basically attaching the energy production label to the weather measurements. However, the *total* energy and weather samples are taken approximately every 10 seconds and 10 minutes, respectively.\n",
        "\n",
        "####  Aggregate per hour\n",
        "\n",
        "We can use pandas grouping functions to aggregate the samples per hour, taking the largest  measurement in that hour."
      ]
    },
    {
      "cell_type": "code",
      "metadata": {
        "ExecuteTime": {
          "end_time": "2020-01-17T20:44:29.378650Z",
          "start_time": "2020-01-17T20:44:28.309731Z"
        },
        "id": "XDgBDuC8kdtv"
      },
      "source": [
        "col = \"total_solar_production\"\n",
        "energy = raw_energy.copy()\n",
        "times = pd.to_datetime(energy[\"seconds\"], unit='s')\n",
        "\n",
        "energy = energy.groupby([times.dt.year, times.dt.month, times.dt.dayofyear, times.dt.hour])[[col]].agg(np.max)\n",
        "energy.index.names = [\"year\", \"month\", \"day\", \"hour\"]"
      ],
      "execution_count": null,
      "outputs": []
    },
    {
      "cell_type": "code",
      "metadata": {
        "ExecuteTime": {
          "end_time": "2020-01-17T20:44:29.397627Z",
          "start_time": "2020-01-17T20:44:29.380615Z"
        },
        "id": "ArdeMKKpkdtv",
        "outputId": "9e082e1a-58f3-40b2-dcb0-36d76be18c41"
      },
      "source": [
        "print(energy)\n",
        "print(energy.dtypes)\n",
        "print(energy.columns)"
      ],
      "execution_count": null,
      "outputs": [
        {
          "output_type": "stream",
          "text": [
            "                     total_solar_production\n",
            "year month day hour                        \n",
            "2017 1     1   0                     4147.1\n",
            "               1                     4147.1\n",
            "               2                     4147.1\n",
            "               3                     4147.1\n",
            "               4                     4147.1\n",
            "...                                     ...\n",
            "2018 5     144 19                    8069.1\n",
            "               20                    8069.1\n",
            "               21                    8078.8\n",
            "               22                    8078.8\n",
            "               23                    8078.8\n",
            "\n",
            "[5528 rows x 1 columns]\n",
            "total_solar_production    float64\n",
            "dtype: object\n",
            "Index(['total_solar_production'], dtype='object')\n"
          ],
          "name": "stdout"
        }
      ]
    },
    {
      "cell_type": "code",
      "metadata": {
        "ExecuteTime": {
          "end_time": "2020-01-17T20:44:30.459450Z",
          "start_time": "2020-01-17T20:44:29.399623Z"
        },
        "id": "-3MZhdC9kdtv"
      },
      "source": [
        "# Testing\n",
        "\n",
        "temp_col = \"total_solar_production\"\n",
        "temp_energy = clean_raw_energy.copy()\n",
        "times = pd.to_datetime(temp_energy[\"seconds\"], unit='s')\n",
        "\n",
        "temp_energy = temp_energy.groupby([times.dt.year, times.dt.month, times.dt.dayofyear, times.dt.hour])[[temp_col]].agg(np.max)\n",
        "temp_energy.index.names = [\"year\", \"month\", \"day\", \"hour\"]\n"
      ],
      "execution_count": null,
      "outputs": []
    },
    {
      "cell_type": "code",
      "metadata": {
        "ExecuteTime": {
          "end_time": "2020-01-17T20:44:30.478413Z",
          "start_time": "2020-01-17T20:44:30.460412Z"
        },
        "id": "hYc9G5C7kdtv",
        "outputId": "80230f24-d14a-49e0-a7dc-0881374a21b4"
      },
      "source": [
        "print(temp_energy)\n",
        "print(temp_energy.dtypes)\n",
        "print(temp_energy.columns)"
      ],
      "execution_count": null,
      "outputs": [
        {
          "output_type": "stream",
          "text": [
            "                     total_solar_production\n",
            "year month day hour                        \n",
            "2017 1     1   0                     4147.1\n",
            "               1                     4147.1\n",
            "               2                     4147.1\n",
            "               3                     4147.1\n",
            "               4                     4147.1\n",
            "...                                     ...\n",
            "2018 5     144 19                    8069.1\n",
            "               20                    8069.1\n",
            "               21                    8078.8\n",
            "               22                    8078.8\n",
            "               23                    8078.8\n",
            "\n",
            "[5528 rows x 1 columns]\n",
            "total_solar_production    float64\n",
            "dtype: object\n",
            "Index(['total_solar_production'], dtype='object')\n"
          ],
          "name": "stdout"
        }
      ]
    },
    {
      "cell_type": "code",
      "metadata": {
        "ExecuteTime": {
          "end_time": "2020-01-17T20:44:30.490416Z",
          "start_time": "2020-01-17T20:44:30.480413Z"
        },
        "id": "aWcE67X7kdtw"
      },
      "source": [
        "temp_energy[\"production\"] = temp_energy[col] - temp_energy[col].shift(1)"
      ],
      "execution_count": null,
      "outputs": []
    },
    {
      "cell_type": "code",
      "metadata": {
        "ExecuteTime": {
          "end_time": "2020-01-17T20:44:30.516453Z",
          "start_time": "2020-01-17T20:44:30.493533Z"
        },
        "id": "6ytQC28hkdtw",
        "outputId": "607f5c81-d96c-4bfc-82cc-5d61fcee6eca"
      },
      "source": [
        "print(temp_energy)\n",
        "print(temp_energy['production'].value_counts())\n",
        "print(temp_energy[temp_energy['production'].isna()])"
      ],
      "execution_count": null,
      "outputs": [
        {
          "output_type": "stream",
          "text": [
            "                     total_solar_production  production\n",
            "year month day hour                                    \n",
            "2017 1     1   0                     4147.1         NaN\n",
            "               1                     4147.1         0.0\n",
            "               2                     4147.1         0.0\n",
            "               3                     4147.1         0.0\n",
            "               4                     4147.1         0.0\n",
            "...                                     ...         ...\n",
            "2018 5     144 19                    8069.1         0.0\n",
            "               20                    8069.1         0.0\n",
            "               21                    8078.8         9.7\n",
            "               22                    8078.8         0.0\n",
            "               23                    8078.8         0.0\n",
            "\n",
            "[5528 rows x 2 columns]\n",
            "0.0     3247\n",
            "0.1      334\n",
            "0.1      228\n",
            "0.2      194\n",
            "0.3      149\n",
            "        ... \n",
            "3.8        1\n",
            "84.2       1\n",
            "4.2        1\n",
            "64.3       1\n",
            "52.7       1\n",
            "Name: production, Length: 72, dtype: int64\n",
            "                     total_solar_production  production\n",
            "year month day hour                                    \n",
            "2017 1     1   0                     4147.1         NaN\n"
          ],
          "name": "stdout"
        }
      ]
    },
    {
      "cell_type": "markdown",
      "metadata": {
        "id": "03eEQdR9kdtw"
      },
      "source": [
        "### Question 4 ###\n",
        "\n",
        "Note that the hourly aggregation using the maximum works well for columns containing the totals. Does it also work for the `'solar_production'` column?\n",
        "\n",
        "1. Yes, but the aggregation method needs to be changed to fit the solar_production data type\n",
        "2. Yes, the same aggregation method can be applied\n",
        "3. No, it's not possible to aggegrate over the solar_production field\n",
        "4. No, aggregating over the solar_production field in any way does not make sense.\n",
        "5. None of the above.\n",
        "\n",
        "Assign an integer corresponding to the correct answer to variable `question_aggregation`."
      ]
    },
    {
      "cell_type": "code",
      "metadata": {
        "ExecuteTime": {
          "end_time": "2020-01-17T20:44:30.531412Z",
          "start_time": "2020-01-17T20:44:30.520417Z"
        },
        "id": "P-oVFCeBkdtw"
      },
      "source": [
        "#// BEGIN_TODO [Q4]\n",
        "question_aggregation = 2\n",
        "# Aggregation is possible on the data since we converted it to float64.\n",
        "# It could also be considered to perform average or sum instead of maximum, since \n",
        "# that might give a more realistic estimate of hourly solar production\n",
        "\n",
        "#// END_TODO [Q4]"
      ],
      "execution_count": null,
      "outputs": []
    },
    {
      "cell_type": "markdown",
      "metadata": {
        "id": "yv-pyIvYkdtx"
      },
      "source": [
        "After aggregation, some cells can contain `Nan` values (e.g. when trying to compute a maximum for an hour during which no samples were recorded). Therefore, after performing such operations one should decide what to do with any NaN values. In this case we chose to remove such samples."
      ]
    },
    {
      "cell_type": "code",
      "metadata": {
        "ExecuteTime": {
          "end_time": "2020-01-17T20:44:30.561416Z",
          "start_time": "2020-01-17T20:44:30.534430Z"
        },
        "id": "fWPt2hvrkdty",
        "outputId": "1f678427-6ad9-4c1e-e4bc-50375bcc4228"
      },
      "source": [
        "print(energy)\n",
        "energy = energy.dropna()\n",
        "print(energy)"
      ],
      "execution_count": null,
      "outputs": [
        {
          "output_type": "stream",
          "text": [
            "                     total_solar_production\n",
            "year month day hour                        \n",
            "2017 1     1   0                     4147.1\n",
            "               1                     4147.1\n",
            "               2                     4147.1\n",
            "               3                     4147.1\n",
            "               4                     4147.1\n",
            "...                                     ...\n",
            "2018 5     144 19                    8069.1\n",
            "               20                    8069.1\n",
            "               21                    8078.8\n",
            "               22                    8078.8\n",
            "               23                    8078.8\n",
            "\n",
            "[5528 rows x 1 columns]\n",
            "                     total_solar_production\n",
            "year month day hour                        \n",
            "2017 1     1   0                     4147.1\n",
            "               1                     4147.1\n",
            "               2                     4147.1\n",
            "               3                     4147.1\n",
            "               4                     4147.1\n",
            "...                                     ...\n",
            "2018 5     144 19                    8069.1\n",
            "               20                    8069.1\n",
            "               21                    8078.8\n",
            "               22                    8078.8\n",
            "               23                    8078.8\n",
            "\n",
            "[5528 rows x 1 columns]\n"
          ],
          "name": "stdout"
        }
      ]
    },
    {
      "cell_type": "markdown",
      "metadata": {
        "id": "6Tai5OTskdty"
      },
      "source": [
        "After grouping, merging and slicing operations, the index of a data frame might need to be recomputed, to reflect the new ordering of rows."
      ]
    },
    {
      "cell_type": "code",
      "metadata": {
        "ExecuteTime": {
          "end_time": "2020-01-17T20:44:30.574418Z",
          "start_time": "2020-01-17T20:44:30.564415Z"
        },
        "id": "aQxX9vq2kdty"
      },
      "source": [
        "energy = energy.reset_index()"
      ],
      "execution_count": null,
      "outputs": []
    },
    {
      "cell_type": "code",
      "metadata": {
        "ExecuteTime": {
          "end_time": "2020-01-17T20:44:30.596413Z",
          "start_time": "2020-01-17T20:44:30.576413Z"
        },
        "id": "wBlBxzuRkdty",
        "outputId": "32bc2807-c469-40c2-ca41-afdc85b4e802"
      },
      "source": [
        "print(energy)"
      ],
      "execution_count": null,
      "outputs": [
        {
          "output_type": "stream",
          "text": [
            "      year  month  day  hour  total_solar_production\n",
            "0     2017      1    1     0                  4147.1\n",
            "1     2017      1    1     1                  4147.1\n",
            "2     2017      1    1     2                  4147.1\n",
            "3     2017      1    1     3                  4147.1\n",
            "4     2017      1    1     4                  4147.1\n",
            "...    ...    ...  ...   ...                     ...\n",
            "5523  2018      5  144    19                  8069.1\n",
            "5524  2018      5  144    20                  8069.1\n",
            "5525  2018      5  144    21                  8078.8\n",
            "5526  2018      5  144    22                  8078.8\n",
            "5527  2018      5  144    23                  8078.8\n",
            "\n",
            "[5528 rows x 5 columns]\n"
          ],
          "name": "stdout"
        }
      ]
    },
    {
      "cell_type": "markdown",
      "metadata": {
        "id": "JPjpKqnykdtz"
      },
      "source": [
        "#### Compute the hourly production\n",
        "\n",
        "We are interested in predicting the solar panel output in a given hour. However, the `'total_solar_production'` column in the energy data frame at this point contains the total solar panel output until the end of that hour. Assuming that the data set contains a sample for every hour, i.e. there are no gaps, the hourly output can be compouted by taking the difference between the previous sample."
      ]
    },
    {
      "cell_type": "code",
      "metadata": {
        "ExecuteTime": {
          "end_time": "2020-01-17T20:44:30.606416Z",
          "start_time": "2020-01-17T20:44:30.598427Z"
        },
        "id": "SacjeXRokdtz"
      },
      "source": [
        "energy[\"production\"] = energy[col] - energy[col].shift(1)"
      ],
      "execution_count": null,
      "outputs": []
    },
    {
      "cell_type": "code",
      "metadata": {
        "ExecuteTime": {
          "end_time": "2020-01-17T20:44:30.632413Z",
          "start_time": "2020-01-17T20:44:30.608425Z"
        },
        "id": "T3Ru_rznkdt0",
        "outputId": "3d81a159-71dc-46b5-86a2-c5ae58c5a89a"
      },
      "source": [
        "print(energy)\n",
        "print(energy['production'].value_counts())\n",
        "print(energy[energy['production'].isna()])"
      ],
      "execution_count": null,
      "outputs": [
        {
          "output_type": "stream",
          "text": [
            "      year  month  day  hour  total_solar_production  production\n",
            "0     2017      1    1     0                  4147.1         NaN\n",
            "1     2017      1    1     1                  4147.1         0.0\n",
            "2     2017      1    1     2                  4147.1         0.0\n",
            "3     2017      1    1     3                  4147.1         0.0\n",
            "4     2017      1    1     4                  4147.1         0.0\n",
            "...    ...    ...  ...   ...                     ...         ...\n",
            "5523  2018      5  144    19                  8069.1         0.0\n",
            "5524  2018      5  144    20                  8069.1         0.0\n",
            "5525  2018      5  144    21                  8078.8         9.7\n",
            "5526  2018      5  144    22                  8078.8         0.0\n",
            "5527  2018      5  144    23                  8078.8         0.0\n",
            "\n",
            "[5528 rows x 6 columns]\n",
            "0.0     3247\n",
            "0.1      334\n",
            "0.1      228\n",
            "0.2      194\n",
            "0.3      149\n",
            "        ... \n",
            "3.8        1\n",
            "84.2       1\n",
            "4.2        1\n",
            "64.3       1\n",
            "52.7       1\n",
            "Name: production, Length: 72, dtype: int64\n",
            "   year  month  day  hour  total_solar_production  production\n",
            "0  2017      1    1     0                  4147.1         NaN\n"
          ],
          "name": "stdout"
        }
      ]
    },
    {
      "cell_type": "code",
      "metadata": {
        "ExecuteTime": {
          "end_time": "2020-01-17T20:44:30.651429Z",
          "start_time": "2020-01-17T20:44:30.637416Z"
        },
        "id": "hursfV8Gkdt0",
        "outputId": "298e454f-d0f2-4812-cff7-121485320c1d"
      },
      "source": [
        "# energy = energy.dropna().reset_index()\n",
        "energy.head()"
      ],
      "execution_count": null,
      "outputs": [
        {
          "output_type": "execute_result",
          "data": {
            "text/html": [
              "<div>\n",
              "<style scoped>\n",
              "    .dataframe tbody tr th:only-of-type {\n",
              "        vertical-align: middle;\n",
              "    }\n",
              "\n",
              "    .dataframe tbody tr th {\n",
              "        vertical-align: top;\n",
              "    }\n",
              "\n",
              "    .dataframe thead th {\n",
              "        text-align: right;\n",
              "    }\n",
              "</style>\n",
              "<table border=\"1\" class=\"dataframe\">\n",
              "  <thead>\n",
              "    <tr style=\"text-align: right;\">\n",
              "      <th></th>\n",
              "      <th>year</th>\n",
              "      <th>month</th>\n",
              "      <th>day</th>\n",
              "      <th>hour</th>\n",
              "      <th>total_solar_production</th>\n",
              "      <th>production</th>\n",
              "    </tr>\n",
              "  </thead>\n",
              "  <tbody>\n",
              "    <tr>\n",
              "      <th>0</th>\n",
              "      <td>2017</td>\n",
              "      <td>1</td>\n",
              "      <td>1</td>\n",
              "      <td>0</td>\n",
              "      <td>4147.1</td>\n",
              "      <td>NaN</td>\n",
              "    </tr>\n",
              "    <tr>\n",
              "      <th>1</th>\n",
              "      <td>2017</td>\n",
              "      <td>1</td>\n",
              "      <td>1</td>\n",
              "      <td>1</td>\n",
              "      <td>4147.1</td>\n",
              "      <td>0.0</td>\n",
              "    </tr>\n",
              "    <tr>\n",
              "      <th>2</th>\n",
              "      <td>2017</td>\n",
              "      <td>1</td>\n",
              "      <td>1</td>\n",
              "      <td>2</td>\n",
              "      <td>4147.1</td>\n",
              "      <td>0.0</td>\n",
              "    </tr>\n",
              "    <tr>\n",
              "      <th>3</th>\n",
              "      <td>2017</td>\n",
              "      <td>1</td>\n",
              "      <td>1</td>\n",
              "      <td>3</td>\n",
              "      <td>4147.1</td>\n",
              "      <td>0.0</td>\n",
              "    </tr>\n",
              "    <tr>\n",
              "      <th>4</th>\n",
              "      <td>2017</td>\n",
              "      <td>1</td>\n",
              "      <td>1</td>\n",
              "      <td>4</td>\n",
              "      <td>4147.1</td>\n",
              "      <td>0.0</td>\n",
              "    </tr>\n",
              "  </tbody>\n",
              "</table>\n",
              "</div>"
            ],
            "text/plain": [
              "   year  month  day  hour  total_solar_production  production\n",
              "0  2017      1    1     0                  4147.1         NaN\n",
              "1  2017      1    1     1                  4147.1         0.0\n",
              "2  2017      1    1     2                  4147.1         0.0\n",
              "3  2017      1    1     3                  4147.1         0.0\n",
              "4  2017      1    1     4                  4147.1         0.0"
            ]
          },
          "metadata": {
            "tags": []
          },
          "execution_count": 37
        }
      ]
    },
    {
      "cell_type": "markdown",
      "metadata": {
        "id": "Jr5w2Qdbkdt0"
      },
      "source": [
        "### Question 5 ###\n",
        "\n",
        "After creating the production column there are NaNs in the data. Where do they come from, and why is the index recomputed?\n",
        "\n",
        "1. The NaN values are caused by missing values in the original data due to sensor errors, and the index is reset because a column has been added.\n",
        "2. The NaN values are caused by missing values in the original data due to the way the column is calculated, and the index is reset because a column has been added.\n",
        "3. The NaN values are caused by missing values in the original data due to sensor errors, and the index is reset because the number of rows has changed.\n",
        "4. The NaN values are caused by missing values in the original data due to the way the column is calculated, and the index is reset because the number of rows has changed.\n",
        "\n",
        "Assign an integer corresponding to the correct answer to variable `question_production`."
      ]
    },
    {
      "cell_type": "code",
      "metadata": {
        "ExecuteTime": {
          "end_time": "2020-01-17T20:44:30.666414Z",
          "start_time": "2020-01-17T20:44:30.660415Z"
        },
        "id": "Wq3CbfUMkdt1"
      },
      "source": [
        "#// BEGIN_TODO [Q5]\n",
        "question_production = 4\n",
        "#// END_TODO [Q5]\n",
        "# There's just one NaN value, and it's because of how the values have been calculated. \n",
        "# You drop the first row, the number of rows changes."
      ],
      "execution_count": null,
      "outputs": []
    },
    {
      "cell_type": "markdown",
      "metadata": {
        "id": "gnmfOVxckdt2"
      },
      "source": [
        "Now we can perform a similar aggregation for the `clouds` column in the weather data. Note that rather than choosing the maximum, we take the average `clouds` value per hour."
      ]
    },
    {
      "cell_type": "code",
      "metadata": {
        "ExecuteTime": {
          "end_time": "2020-01-17T20:44:30.746947Z",
          "start_time": "2020-01-17T20:44:30.673463Z"
        },
        "id": "_aQhhjQAkdt2"
      },
      "source": [
        "weather = raw_weather.copy()\n",
        "times = pd.to_datetime(weather[\"time\"])\n",
        "weather = weather.groupby([times.dt.year, times.dt.month, times.dt.dayofyear, times.dt.hour])[\"clouds\"].agg(np.mean)\n",
        "weather.index.names = [\"year\", \"month\", \"day\", \"hour\"]\n",
        "weather = weather.reset_index()"
      ],
      "execution_count": null,
      "outputs": []
    },
    {
      "cell_type": "code",
      "metadata": {
        "ExecuteTime": {
          "end_time": "2020-01-17T20:44:30.761940Z",
          "start_time": "2020-01-17T20:44:30.748940Z"
        },
        "id": "wXNy7sFNkdt2",
        "outputId": "bbedd37d-3d13-41e5-9272-bf83f45252c5"
      },
      "source": [
        "print(weather)"
      ],
      "execution_count": null,
      "outputs": [
        {
          "output_type": "stream",
          "text": [
            "      year  month  day  hour  clouds\n",
            "0     2017      1    1     0     0.0\n",
            "1     2017      1    1     1     0.0\n",
            "2     2017      1    1     2     0.0\n",
            "3     2017      1    1     3     0.0\n",
            "4     2017      1    1     4     0.0\n",
            "...    ...    ...  ...   ...     ...\n",
            "5485  2018      5  144    19     0.0\n",
            "5486  2018      5  144    20     0.0\n",
            "5487  2018      5  144    21     0.0\n",
            "5488  2018      5  144    22     0.0\n",
            "5489  2018      5  144    23     0.0\n",
            "\n",
            "[5490 rows x 5 columns]\n"
          ],
          "name": "stdout"
        }
      ]
    },
    {
      "cell_type": "markdown",
      "metadata": {
        "id": "I3Yc82m1kdt2"
      },
      "source": [
        "#### Merge the data frames\n",
        "\n",
        "Now that both data frames are expressed in terms of hours and the energy data frame contains the hourly solar panel output, we can use pandas to merge them.\n",
        "\n",
        "**Important:** when dealing with times in data from various sources one must be very carefull about the semantics of the time, such as the time-zone or the daylight-saving. Luckily, in this assignment both energy and weather data use UTC time, so no extra preprocessing is required."
      ]
    },
    {
      "cell_type": "code",
      "metadata": {
        "ExecuteTime": {
          "end_time": "2020-01-17T20:44:30.793941Z",
          "start_time": "2020-01-17T20:44:30.763942Z"
        },
        "id": "-ed4FHjnkdt2",
        "outputId": "b2954669-717a-4a09-c793-f817a5c4e1b5"
      },
      "source": [
        "data = pd.merge(energy, weather).dropna().reset_index(drop=True)\n",
        "data.head()"
      ],
      "execution_count": null,
      "outputs": [
        {
          "output_type": "execute_result",
          "data": {
            "text/html": [
              "<div>\n",
              "<style scoped>\n",
              "    .dataframe tbody tr th:only-of-type {\n",
              "        vertical-align: middle;\n",
              "    }\n",
              "\n",
              "    .dataframe tbody tr th {\n",
              "        vertical-align: top;\n",
              "    }\n",
              "\n",
              "    .dataframe thead th {\n",
              "        text-align: right;\n",
              "    }\n",
              "</style>\n",
              "<table border=\"1\" class=\"dataframe\">\n",
              "  <thead>\n",
              "    <tr style=\"text-align: right;\">\n",
              "      <th></th>\n",
              "      <th>year</th>\n",
              "      <th>month</th>\n",
              "      <th>day</th>\n",
              "      <th>hour</th>\n",
              "      <th>total_solar_production</th>\n",
              "      <th>production</th>\n",
              "      <th>clouds</th>\n",
              "    </tr>\n",
              "  </thead>\n",
              "  <tbody>\n",
              "    <tr>\n",
              "      <th>0</th>\n",
              "      <td>2017</td>\n",
              "      <td>1</td>\n",
              "      <td>1</td>\n",
              "      <td>1</td>\n",
              "      <td>4147.1</td>\n",
              "      <td>0.0</td>\n",
              "      <td>0.0</td>\n",
              "    </tr>\n",
              "    <tr>\n",
              "      <th>1</th>\n",
              "      <td>2017</td>\n",
              "      <td>1</td>\n",
              "      <td>1</td>\n",
              "      <td>2</td>\n",
              "      <td>4147.1</td>\n",
              "      <td>0.0</td>\n",
              "      <td>0.0</td>\n",
              "    </tr>\n",
              "    <tr>\n",
              "      <th>2</th>\n",
              "      <td>2017</td>\n",
              "      <td>1</td>\n",
              "      <td>1</td>\n",
              "      <td>3</td>\n",
              "      <td>4147.1</td>\n",
              "      <td>0.0</td>\n",
              "      <td>0.0</td>\n",
              "    </tr>\n",
              "    <tr>\n",
              "      <th>3</th>\n",
              "      <td>2017</td>\n",
              "      <td>1</td>\n",
              "      <td>1</td>\n",
              "      <td>4</td>\n",
              "      <td>4147.1</td>\n",
              "      <td>0.0</td>\n",
              "      <td>0.0</td>\n",
              "    </tr>\n",
              "    <tr>\n",
              "      <th>4</th>\n",
              "      <td>2017</td>\n",
              "      <td>1</td>\n",
              "      <td>1</td>\n",
              "      <td>5</td>\n",
              "      <td>4147.1</td>\n",
              "      <td>0.0</td>\n",
              "      <td>0.0</td>\n",
              "    </tr>\n",
              "  </tbody>\n",
              "</table>\n",
              "</div>"
            ],
            "text/plain": [
              "   year  month  day  hour  total_solar_production  production  clouds\n",
              "0  2017      1    1     1                  4147.1         0.0     0.0\n",
              "1  2017      1    1     2                  4147.1         0.0     0.0\n",
              "2  2017      1    1     3                  4147.1         0.0     0.0\n",
              "3  2017      1    1     4                  4147.1         0.0     0.0\n",
              "4  2017      1    1     5                  4147.1         0.0     0.0"
            ]
          },
          "metadata": {
            "tags": []
          },
          "execution_count": 41
        }
      ]
    },
    {
      "cell_type": "code",
      "metadata": {
        "ExecuteTime": {
          "end_time": "2020-01-17T20:44:30.799945Z",
          "start_time": "2020-01-17T20:44:30.795949Z"
        },
        "id": "qlNWlSyMkdt3"
      },
      "source": [
        "q6_data = data.copy()"
      ],
      "execution_count": null,
      "outputs": []
    },
    {
      "cell_type": "code",
      "metadata": {
        "ExecuteTime": {
          "end_time": "2020-01-17T20:44:30.820948Z",
          "start_time": "2020-01-17T20:44:30.803943Z"
        },
        "id": "sBjEdLJJkdt3",
        "outputId": "940822b6-ce89-471c-d3ee-d071eaf39fa3"
      },
      "source": [
        "print(q6_data['production'].value_counts())\n",
        "# print(q6_data[q6_data['production'] > 2.8]['production'].value_counts())\n",
        "print(q6_data[q6_data['production'] > 2.55]['production'].value_counts().sort_index())"
      ],
      "execution_count": null,
      "outputs": [
        {
          "output_type": "stream",
          "text": [
            "0.0     3198\n",
            "0.1      330\n",
            "0.1      226\n",
            "0.2      193\n",
            "0.3      145\n",
            "        ... \n",
            "9.7        1\n",
            "3.7        1\n",
            "84.2       1\n",
            "11.6       1\n",
            "52.7       1\n",
            "Name: production, Length: 70, dtype: int64\n",
            "2.6     2\n",
            "2.7     1\n",
            "3.0     1\n",
            "3.1     1\n",
            "3.7     1\n",
            "3.7     1\n",
            "3.8     1\n",
            "4.2     1\n",
            "4.5     1\n",
            "5.7     1\n",
            "6.5     1\n",
            "7.4     1\n",
            "9.7     1\n",
            "10.6    2\n",
            "11.6    1\n",
            "14.2    1\n",
            "14.3    1\n",
            "17.3    1\n",
            "23.6    1\n",
            "26.5    1\n",
            "52.7    1\n",
            "64.3    1\n",
            "84.2    1\n",
            "87.4    1\n",
            "Name: production, dtype: int64\n"
          ],
          "name": "stdout"
        }
      ]
    },
    {
      "cell_type": "code",
      "metadata": {
        "ExecuteTime": {
          "end_time": "2020-01-17T20:44:30.845941Z",
          "start_time": "2020-01-17T20:44:30.823943Z"
        },
        "id": "JGDuDtVGkdt4",
        "outputId": "8f1e5087-2fd7-481a-d384-7499ac5f24f0"
      },
      "source": [
        "print(q6_data[q6_data['production'] > 10])\n",
        "print(q6_data[(q6_data['day'] > 82) & (q6_data['day'] < 92) & (q6_data['year'] == 2017)])"
      ],
      "execution_count": null,
      "outputs": [
        {
          "output_type": "stream",
          "text": [
            "      year  month  day  hour  total_solar_production  production    clouds\n",
            "570   2017      2   32     0                  4255.0        23.6  1.000000\n",
            "1063  2017      3   60     0                  4349.7        17.3  0.000000\n",
            "1076  2017      3   60    13                  4360.3        10.6  0.000000\n",
            "1167  2017      3   64     8                  4372.7        11.6  2.166667\n",
            "1639  2017      4   91     0                  4622.9        87.4  2.666667\n",
            "1731  2017      4   94    20                  4661.6        10.6  0.166667\n",
            "2087  2017      4  109    16                  4798.3        26.5  1.500000\n",
            "2191  2017      5  121     0                  4927.1        84.2  0.000000\n",
            "3302  2018      2   32     0                  7008.5        14.2  3.000000\n",
            "4345  2018      4   91     0                  7433.0        64.3  0.000000\n",
            "4870  2018      4  112    21                  7681.1        14.3  0.000000\n",
            "4873  2018      5  121     0                  7733.8        52.7  0.000000\n",
            "      year  month  day  hour  total_solar_production  production    clouds\n",
            "1615  2017      3   83     0                  4522.2         0.0  3.000000\n",
            "1616  2017      3   83     1                  4522.2         0.0  3.000000\n",
            "1617  2017      3   83     2                  4522.2         0.0  3.000000\n",
            "1618  2017      3   83     3                  4522.2         0.0  2.500000\n",
            "1619  2017      3   83     4                  4522.2         0.0  3.000000\n",
            "1620  2017      3   83     5                  4522.3         0.1  3.000000\n",
            "1621  2017      3   83     6                  4522.4         0.1  2.666667\n",
            "1622  2017      3   83     7                  4523.0         0.6  2.000000\n",
            "1623  2017      3   83     8                  4523.8         0.8  1.333333\n",
            "1624  2017      3   83     9                  4525.6         1.8  2.000000\n",
            "1625  2017      3   83    10                  4527.7         2.1  2.666667\n",
            "1626  2017      3   83    11                  4529.9         2.2  2.000000\n",
            "1627  2017      3   83    12                  4531.9         2.0  2.000000\n",
            "1628  2017      3   83    13                  4533.4         1.5  2.166667\n",
            "1629  2017      3   83    14                  4534.6         1.2  2.000000\n",
            "1630  2017      3   83    15                  4535.3         0.7  2.000000\n",
            "1631  2017      3   83    16                  4535.5         0.2  2.833333\n",
            "1632  2017      3   83    17                  4535.5         0.0  2.500000\n",
            "1633  2017      3   83    18                  4535.5         0.0  2.000000\n",
            "1634  2017      3   83    19                  4535.5         0.0  2.833333\n",
            "1635  2017      3   83    20                  4535.5         0.0  2.833333\n",
            "1636  2017      3   83    21                  4535.5         0.0  3.000000\n",
            "1637  2017      3   83    22                  4535.5         0.0  3.000000\n",
            "1638  2017      3   83    23                  4535.5         0.0  2.833333\n",
            "1639  2017      4   91     0                  4622.9        87.4  2.666667\n",
            "1640  2017      4   91     1                  4622.9         0.0  0.666667\n",
            "1641  2017      4   91     2                  4622.9         0.0  0.166667\n",
            "1642  2017      4   91     3                  4622.9         0.0  0.000000\n",
            "1643  2017      4   91     4                  4622.9         0.0  0.000000\n",
            "1644  2017      4   91     5                  4622.9         0.0  0.000000\n",
            "1645  2017      4   91     6                  4623.0         0.1  0.000000\n",
            "1646  2017      4   91     7                  4623.0         0.0  0.000000\n",
            "1647  2017      4   91     8                  4623.1         0.1  0.000000\n",
            "1648  2017      4   91     9                  4623.5         0.4  0.000000\n",
            "1649  2017      4   91    10                  4624.0         0.5  0.000000\n",
            "1650  2017      4   91    11                  4624.9         0.9  0.000000\n",
            "1651  2017      4   91    12                  4625.7         0.8  0.000000\n",
            "1652  2017      4   91    13                  4626.1         0.4  0.000000\n",
            "1653  2017      4   91    14                  4626.4         0.3  0.000000\n",
            "1654  2017      4   91    15                  4626.6         0.2  0.000000\n",
            "1655  2017      4   91    16                  4626.7         0.1  0.000000\n",
            "1656  2017      4   91    17                  4626.8         0.1  0.000000\n",
            "1657  2017      4   91    18                  4626.8         0.0  0.000000\n",
            "1658  2017      4   91    19                  4626.8         0.0  0.000000\n",
            "1659  2017      4   91    20                  4626.8         0.0  0.000000\n",
            "1660  2017      4   91    21                  4626.8         0.0  0.000000\n",
            "1661  2017      4   91    22                  4626.8         0.0  0.000000\n",
            "1662  2017      4   91    23                  4626.8         0.0  0.000000\n"
          ],
          "name": "stdout"
        }
      ]
    },
    {
      "cell_type": "markdown",
      "metadata": {
        "id": "WuS6f2gOkdt4"
      },
      "source": [
        "#### Explore the engineered features\n",
        "\n",
        "After engineering features it is a good idea to explore the data set again, to see if extra cleaning is required."
      ]
    },
    {
      "cell_type": "code",
      "metadata": {
        "ExecuteTime": {
          "end_time": "2020-01-17T20:44:31.108850Z",
          "start_time": "2020-01-17T20:44:30.847960Z"
        },
        "id": "l_7tyBaqkdt4",
        "outputId": "e66a86b2-0809-4c3d-dc32-5f55d0cf4570"
      },
      "source": [
        "values = data[\"production\"].values\n",
        "plt.figure(figsize=(10, 2))\n",
        "plt.hist(values, 50);\n",
        "print (min(values), max(values))"
      ],
      "execution_count": null,
      "outputs": [
        {
          "output_type": "stream",
          "text": [
            "0.0 87.39999999999964\n"
          ],
          "name": "stdout"
        },
        {
          "output_type": "display_data",
          "data": {
            "image/png": "[encoded data removed]",
            "text/plain": [
              "<Figure size 720x144 with 1 Axes>"
            ]
          },
          "metadata": {
            "tags": [],
            "needs_background": "light"
          }
        }
      ]
    },
    {
      "cell_type": "markdown",
      "metadata": {
        "id": "PWTNt-y_kdt4"
      },
      "source": [
        "The small variance of the values and their large range suggests there are some outliers. This can be also visualized in a different way."
      ]
    },
    {
      "cell_type": "code",
      "metadata": {
        "ExecuteTime": {
          "end_time": "2020-01-17T20:44:31.343598Z",
          "start_time": "2020-01-17T20:44:31.111842Z"
        },
        "id": "gT1oWPT3kdt4",
        "outputId": "b9248e14-b635-4612-be24-36dd907bcd75"
      },
      "source": [
        "def plot(df, col):\n",
        "    x = df[\"day\"]\n",
        "    plt.figure(figsize=(20,6))\n",
        "    plt.plot(x, df[col], 'bo', markersize=1)\n",
        "\n",
        "plot(data, \"production\")"
      ],
      "execution_count": null,
      "outputs": [
        {
          "output_type": "display_data",
          "data": {
            "image/png": "[encoded data removed]",
            "text/plain": [
              "<Figure size 1440x432 with 1 Axes>"
            ]
          },
          "metadata": {
            "tags": [],
            "needs_background": "light"
          }
        }
      ]
    },
    {
      "cell_type": "markdown",
      "metadata": {
        "id": "pwGOl8jkkdt5"
      },
      "source": [
        "The figure suggests that there are indeed outliers in the energy production data."
      ]
    },
    {
      "cell_type": "markdown",
      "metadata": {
        "id": "AfrEm6rTkdt5"
      },
      "source": [
        "### Question 6\n",
        "\n",
        "The plot shows some outliers. How do you explain these? Choose all correct answers.\n",
        "\n",
        "1. There is actually an oversight in the previous calculations which causes the outliers.\n",
        "2. There is some unclean data present due to sensor errors.\n",
        "3. There were some very clear and sunny days.\n",
        "4. The outliers represent multiple days of production.\n",
        "\n",
        "Assign a list of integers corresponding to the correct answers to variable `question_outliers`."
      ]
    },
    {
      "cell_type": "code",
      "metadata": {
        "ExecuteTime": {
          "end_time": "2020-01-17T20:44:31.349585Z",
          "start_time": "2020-01-17T20:44:31.345584Z"
        },
        "id": "FSIPjvKokdt5"
      },
      "source": [
        "#// BEGIN_TODO [Q6]\n",
        "question_outliers = [1, 4]\n",
        "#// END_TODO [Q6]"
      ],
      "execution_count": null,
      "outputs": []
    },
    {
      "cell_type": "markdown",
      "metadata": {
        "id": "t449f2hakdt5"
      },
      "source": [
        "Note that when removing the energy samples containing 0 values in `raw_energy` earlier, it was clear how to define an outlier. In this case, however, one must carefully decide how to define an outlier, to avoid introducing bias. You can read more about outlier detection here:\n",
        "\n",
        "- Section 3.3.3 of \"Introduction to Statistical Learning\"\n",
        "- http://scikit-learn.org/stable/modules/outlier_detection.html"
      ]
    },
    {
      "cell_type": "markdown",
      "metadata": {
        "id": "pI6wzb2Gkdt6"
      },
      "source": [
        "### Question 7\n",
        "\n",
        "How do you best define an outlier for this data set?\n",
        "\n",
        "1. Calculate the average production, and define an outlier based on standard deviations.\n",
        "2. Build a model for the expected production, and label outliers based on the model predictions.\n",
        "3. Set a fixed threshold for outliers based on the characteristics of the solar panels.\n",
        "4. Estimate a fixed threshold for outliers by hand based on the above plot.\n",
        "\n",
        "Assign an integer corresponding to the correct answer to variable `question_outlier_definition`."
      ]
    },
    {
      "cell_type": "code",
      "metadata": {
        "ExecuteTime": {
          "end_time": "2020-01-17T20:44:31.358582Z",
          "start_time": "2020-01-17T20:44:31.353590Z"
        },
        "id": "FUkaTrqIkdt6"
      },
      "source": [
        "#// BEGIN_TODO [Q7]\n",
        "question_outlier_definition = 3\n",
        "#// END_TODO [Q7]"
      ],
      "execution_count": null,
      "outputs": []
    },
    {
      "cell_type": "markdown",
      "metadata": {
        "id": "Osr_j45kkdt6"
      },
      "source": [
        "### Question 8\n",
        "\n",
        "Remove the outliers from the `data` data frame. Assign the resulting data frame to variable `data_no_outliers`. "
      ]
    },
    {
      "cell_type": "code",
      "metadata": {
        "ExecuteTime": {
          "end_time": "2020-01-17T20:44:31.368237Z",
          "start_time": "2020-01-17T20:44:31.361587Z"
        },
        "id": "j1AiFaFekdt6"
      },
      "source": [
        "q8_data = data.copy()"
      ],
      "execution_count": null,
      "outputs": []
    },
    {
      "cell_type": "code",
      "metadata": {
        "ExecuteTime": {
          "end_time": "2020-01-17T20:44:31.633308Z",
          "start_time": "2020-01-17T20:44:31.371261Z"
        },
        "id": "Q-k8VaCCkdt6",
        "outputId": "f08e9d73-a506-455f-af17-1f853e7e3b4b"
      },
      "source": [
        "print(q8_data)\n",
        "q8_data = q8_data[q8_data['production'] < 2.55]\n",
        "# data_temp_production = q8_data['production']\n",
        "# print(data_temp_production.mean())\n",
        "# print(data_temp_production.var())\n",
        "# print(data_temp_production.std())\n",
        "# print(q6_data[q6_data['production'] > 2.55]['production'].value_counts().sort_index())\n",
        "# print(q8_data)\n",
        "plot(q8_data, \"production\")"
      ],
      "execution_count": null,
      "outputs": [
        {
          "output_type": "stream",
          "text": [
            "      year  month  day  hour  total_solar_production  production  clouds\n",
            "0     2017      1    1     1                  4147.1         0.0     0.0\n",
            "1     2017      1    1     2                  4147.1         0.0     0.0\n",
            "2     2017      1    1     3                  4147.1         0.0     0.0\n",
            "3     2017      1    1     4                  4147.1         0.0     0.0\n",
            "4     2017      1    1     5                  4147.1         0.0     0.0\n",
            "...    ...    ...  ...   ...                     ...         ...     ...\n",
            "5444  2018      5  144    19                  8069.1         0.0     0.0\n",
            "5445  2018      5  144    20                  8069.1         0.0     0.0\n",
            "5446  2018      5  144    21                  8078.8         9.7     0.0\n",
            "5447  2018      5  144    22                  8078.8         0.0     0.0\n",
            "5448  2018      5  144    23                  8078.8         0.0     0.0\n",
            "\n",
            "[5449 rows x 7 columns]\n"
          ],
          "name": "stdout"
        },
        {
          "output_type": "display_data",
          "data": {
            "image/png": "[encoded data removed]",
            "text/plain": [
              "<Figure size 1440x432 with 1 Axes>"
            ]
          },
          "metadata": {
            "tags": [],
            "needs_background": "light"
          }
        }
      ]
    },
    {
      "cell_type": "code",
      "metadata": {
        "ExecuteTime": {
          "end_time": "2020-01-17T20:44:31.641320Z",
          "start_time": "2020-01-17T20:44:31.636306Z"
        },
        "id": "geHCErz7kdt7"
      },
      "source": [
        "#// BEGIN_TODO [Q8]\n",
        "data_no_outliers = q8_data.copy()\n",
        "#// END_TODO [Q8]"
      ],
      "execution_count": null,
      "outputs": []
    },
    {
      "cell_type": "markdown",
      "metadata": {
        "id": "Ql0X_qeikdt7"
      },
      "source": [
        "Data visualization is often helpful to check if the results of our data processing and analysis meet our expectations."
      ]
    },
    {
      "cell_type": "code",
      "metadata": {
        "ExecuteTime": {
          "end_time": "2020-01-17T20:44:31.945493Z",
          "start_time": "2020-01-17T20:44:31.646410Z"
        },
        "id": "0l1gPA2gkdt8",
        "outputId": "12d1e399-7474-4ae5-e5c8-40e86f7c2b97"
      },
      "source": [
        "# TODO: plot the clouds feature\n",
        "plot(q8_data, \"clouds\")"
      ],
      "execution_count": null,
      "outputs": [
        {
          "output_type": "display_data",
          "data": {
            "image/png": "[encoded data removed]",
            "text/plain": [
              "<Figure size 1440x432 with 1 Axes>"
            ]
          },
          "metadata": {
            "tags": [],
            "needs_background": "light"
          }
        }
      ]
    },
    {
      "cell_type": "code",
      "metadata": {
        "ExecuteTime": {
          "end_time": "2020-01-17T20:44:31.952493Z",
          "start_time": "2020-01-17T20:44:31.947494Z"
        },
        "id": "CLxuh_k0kdt8",
        "outputId": "8a777859-a455-4b71-86c6-9c47e5f61a9b"
      },
      "source": [
        "print(data_no_outliers.columns)\n",
        "print(data.columns)"
      ],
      "execution_count": null,
      "outputs": [
        {
          "output_type": "stream",
          "text": [
            "Index(['year', 'month', 'day', 'hour', 'total_solar_production', 'production',\n",
            "       'clouds'],\n",
            "      dtype='object')\n",
            "Index(['year', 'month', 'day', 'hour', 'total_solar_production', 'production',\n",
            "       'clouds'],\n",
            "      dtype='object')\n"
          ],
          "name": "stdout"
        }
      ]
    },
    {
      "cell_type": "markdown",
      "metadata": {
        "id": "k6Lk0w02kdt8"
      },
      "source": [
        "### Train a model\n",
        "\n",
        "For training and evaluating the perfromance of a model we need to split the data into a training and a test."
      ]
    },
    {
      "cell_type": "code",
      "metadata": {
        "ExecuteTime": {
          "end_time": "2020-01-17T20:44:31.964562Z",
          "start_time": "2020-01-17T20:44:31.954510Z"
        },
        "id": "57gMUzjvkdt8"
      },
      "source": [
        "train_data = data_no_outliers.copy()"
      ],
      "execution_count": null,
      "outputs": []
    },
    {
      "cell_type": "code",
      "metadata": {
        "ExecuteTime": {
          "end_time": "2020-01-17T20:44:31.976494Z",
          "start_time": "2020-01-17T20:44:31.968523Z"
        },
        "id": "GfoEeFEVkdt9"
      },
      "source": [
        "X = train_data[[\"clouds\"]].values\n",
        "y = train_data[\"production\"].values\n",
        "X_train, X_test, y_train, y_test = train_test_split(X, y, test_size=0.2, random_state=42)"
      ],
      "execution_count": null,
      "outputs": []
    },
    {
      "cell_type": "code",
      "metadata": {
        "ExecuteTime": {
          "end_time": "2020-01-17T20:44:31.992494Z",
          "start_time": "2020-01-17T20:44:31.978493Z"
        },
        "id": "xFECCGtJkdt9",
        "outputId": "30e9a187-0467-4559-9480-0b78ae6ed1a2"
      },
      "source": [
        "model = LinearRegression()\n",
        "model.fit(X_train, y_train)"
      ],
      "execution_count": null,
      "outputs": [
        {
          "output_type": "execute_result",
          "data": {
            "text/plain": [
              "LinearRegression(copy_X=True, fit_intercept=True, n_jobs=None, normalize=False)"
            ]
          },
          "metadata": {
            "tags": []
          },
          "execution_count": 56
        }
      ]
    },
    {
      "cell_type": "markdown",
      "metadata": {
        "id": "2U8nbuGpkdt9"
      },
      "source": [
        "### Evaluate the model\n",
        "\n",
        "After a model is trained we would like to estimate how well it is performing, whether we can actually trust its predictions if it were deployed. Model performance can be estimated using various visualisations and statistics (see Section 3.1.3 of [ISLR])\n",
        "\n",
        "#### Model fit\n",
        "\n",
        "If the feature space is 1 or 2 dimensional, then we can easily plot the model to illustrate how well it fits the test data."
      ]
    },
    {
      "cell_type": "code",
      "metadata": {
        "ExecuteTime": {
          "end_time": "2020-01-17T20:44:32.234378Z",
          "start_time": "2020-01-17T20:44:31.994497Z"
        },
        "id": "dh_7-sj0kdt9",
        "outputId": "ec510c52-6d44-43b1-ae3d-f5fdbd4385fc"
      },
      "source": [
        "x_plot = np.linspace(min(X), max(X), 100)\n",
        "X_plot = x_plot.reshape(-1, 1)\n",
        "y_plot = model.predict(X_plot)\n",
        "\n",
        "dots, = plt.plot(X_test, y_test, 'bo', markersize=2, color=\"red\", label=\"training data\");\n",
        "line, = plt.plot(x_plot, y_plot, linewidth=2, label=\"model\");\n",
        "plt.legend(handles=[dots, line]);"
      ],
      "execution_count": null,
      "outputs": [
        {
          "output_type": "display_data",
          "data": {
            "image/png": "[encoded data removed]",
            "text/plain": [
              "<Figure size 432x288 with 1 Axes>"
            ]
          },
          "metadata": {
            "tags": [],
            "needs_background": "light"
          }
        }
      ]
    },
    {
      "cell_type": "markdown",
      "metadata": {
        "id": "FVliaJ4wkdt9"
      },
      "source": [
        "We can compute the R2 score to assign a number to how well the model fits the data. It estimates how much of the variance in the data is explained by the model, i.e. how well the model fits the data. A score of 1 means the model captures all of the variance, and a score of 0 means the model does not capture any of the variance.\n",
        "\n",
        "You can read more about the R2 score in Section 3.1.3 of \"Introduction to Statistical Learning\"."
      ]
    },
    {
      "cell_type": "code",
      "metadata": {
        "ExecuteTime": {
          "end_time": "2020-01-17T20:44:32.242376Z",
          "start_time": "2020-01-17T20:44:32.235375Z"
        },
        "id": "HhfzaXTAkdt9",
        "outputId": "2716f61b-78fd-4587-b10d-96d8df9c44ec"
      },
      "source": [
        "model.score(X_test, y_test)"
      ],
      "execution_count": null,
      "outputs": [
        {
          "output_type": "execute_result",
          "data": {
            "text/plain": [
              "0.025607651535383358"
            ]
          },
          "metadata": {
            "tags": []
          },
          "execution_count": 58
        }
      ]
    },
    {
      "cell_type": "markdown",
      "metadata": {
        "id": "b5km_5F8kdt-"
      },
      "source": [
        "#### Residuals\n",
        "\n",
        "We can also plot a histogram of the residuals (or errors), i.e. the deviations of the values predicted by our model from the ground truth values (from the test set):"
      ]
    },
    {
      "cell_type": "code",
      "metadata": {
        "ExecuteTime": {
          "end_time": "2020-01-17T20:44:32.536702Z",
          "start_time": "2020-01-17T20:44:32.245379Z"
        },
        "id": "_h5L9mFbkdt-",
        "outputId": "94a2cc1f-6317-4cfc-ac4a-072a80a7cbf6"
      },
      "source": [
        "y_pred = model.predict(X_test)\n",
        "plt.title(\"Distribution of the residuals\")\n",
        "plt.hist(y_test - y_pred, 50);"
      ],
      "execution_count": null,
      "outputs": [
        {
          "output_type": "display_data",
          "data": {
            "image/png": "[encoded data removed]",
            "text/plain": [
              "<Figure size 432x288 with 1 Axes>"
            ]
          },
          "metadata": {
            "tags": [],
            "needs_background": "light"
          }
        }
      ]
    },
    {
      "cell_type": "markdown",
      "metadata": {
        "id": "PJt_6QhDkdt-"
      },
      "source": [
        "Looking at the histogram you will notice that distribution of the residuals is not symmetric."
      ]
    },
    {
      "cell_type": "markdown",
      "metadata": {
        "id": "7R2iBZqvkdt-"
      },
      "source": [
        "### Question 9\n",
        "\n",
        "Does the model tend to over-estimate, or under-estimate the solar panel output?\n",
        "\n",
        "1. The model tends to over-estimate.\n",
        "2. The model tends to under-estimate.\n",
        "3. The model is not biased\n",
        "\n",
        "Assign an integer corresponding to the correct answer to variable `question_bias`. "
      ]
    },
    {
      "cell_type": "code",
      "metadata": {
        "ExecuteTime": {
          "end_time": "2020-01-17T20:44:32.542667Z",
          "start_time": "2020-01-17T20:44:32.538674Z"
        },
        "id": "jQg_yUVHkdt_"
      },
      "source": [
        "#// BEGIN_TODO [Q9]\n",
        "question_bias = 2\n",
        "#// END_TODO [Q9]"
      ],
      "execution_count": null,
      "outputs": []
    },
    {
      "cell_type": "markdown",
      "metadata": {
        "id": "2gcsmQyOkdt_"
      },
      "source": [
        "If the model is not biased, or if we are not interested in the bias, then we can compute the mean absolute deviation (MAD) to estimate the expected error of a prediction. E.g. a MAD = 0.345 means that we expect on average our predition to be off by 0.345kWh."
      ]
    },
    {
      "cell_type": "code",
      "metadata": {
        "ExecuteTime": {
          "end_time": "2020-01-17T20:44:32.553204Z",
          "start_time": "2020-01-17T20:44:32.545187Z"
        },
        "id": "b4ppeiJgkduA",
        "outputId": "096f7267-914d-4bf6-8c60-7549ecac2a39"
      },
      "source": [
        "y_pred = model.predict(X_test)\n",
        "mean_absolute_error(y_test, y_pred)"
      ],
      "execution_count": null,
      "outputs": [
        {
          "output_type": "execute_result",
          "data": {
            "text/plain": [
              "0.3834030597203876"
            ]
          },
          "metadata": {
            "tags": []
          },
          "execution_count": 61
        }
      ]
    },
    {
      "cell_type": "markdown",
      "metadata": {
        "id": "hKQUmrg5kduA"
      },
      "source": [
        "### Improve the model\n",
        "\n",
        "We have shown here a simple linear model mapping the `clouds` feature to the `hourly_production` label. However, this model does not perform very well. The problem could be that the model is underfitting or overfitting the data. You can find more about under- and overfitting in Section 2.1.2, 2.1.3, 6.1 of \"Introduction to Statistical Learning\", 7th edition."
      ]
    },
    {
      "cell_type": "markdown",
      "metadata": {
        "id": "j40KxcCNkduA"
      },
      "source": [
        "### Question 10 ###\n",
        "\n",
        "Is the model underfitting or overfitting the training data? What makes you say that?\n",
        "\n",
        "1. The model is underfitting. This can be seen by the straightness of the line of the model in the plot.\n",
        "2. The model is underfitting. This can be seen by the location of the line of the model in the plot.\n",
        "3. The model is overfitting. This can be seen by the straightness of the  line of the model in the plot.\n",
        "4. The model is overfitting. This can be seen by the location of the line of the model in the plot.\n",
        "\n",
        "Assign an integer corresponding to the correct answer to variable `question_fitting`. "
      ]
    },
    {
      "cell_type": "code",
      "metadata": {
        "ExecuteTime": {
          "end_time": "2020-01-17T20:44:32.566319Z",
          "start_time": "2020-01-17T20:44:32.556318Z"
        },
        "id": "W6eMZIFAkduA"
      },
      "source": [
        "#// BEGIN_TODO [Q10]\n",
        "question_fitting = 1\n",
        "# A linear model couldn't possibly identify an entire trend in the data. There must be other factors influencing as well.\n",
        "# Time of day, month of year.\n",
        "#// END_TODO [Q10]"
      ],
      "execution_count": null,
      "outputs": []
    },
    {
      "cell_type": "markdown",
      "metadata": {
        "id": "Mju_Z19qkduB"
      },
      "source": [
        "One could try several things to improve the model.\n",
        "\n",
        "#### Add more features\n",
        "\n",
        "The simple linear model assumed that there is a strong relation ship between the clouds (or their absence) and the output of the solar panels. However, clouds alone are not a sufficient indicator, e.g. during the night. You may plot a histogram showing how the `clouds` values are distributed during the 24 hours of a day:"
      ]
    },
    {
      "cell_type": "code",
      "metadata": {
        "ExecuteTime": {
          "end_time": "2020-01-17T20:44:32.735452Z",
          "start_time": "2020-01-17T20:44:32.570319Z"
        },
        "id": "Y5tkXjI1kduC",
        "outputId": "68b406a7-ae4b-4665-f8c8-064c9d5cd17d"
      },
      "source": [
        "plt.hist2d(weather.dropna().hour.values, weather.dropna().clouds.values);"
      ],
      "execution_count": null,
      "outputs": [
        {
          "output_type": "display_data",
          "data": {
            "image/png": "[encoded data removed]",
            "text/plain": [
              "<Figure size 432x288 with 1 Axes>"
            ]
          },
          "metadata": {
            "tags": [],
            "needs_background": "light"
          }
        }
      ]
    },
    {
      "cell_type": "markdown",
      "metadata": {
        "id": "OE8rD9JkkduC"
      },
      "source": [
        "### Question 11\n",
        "\n",
        "Why is the `clouds` column alone not a good indicator for the solar panel output?\n",
        "\n",
        "Answer this question in max. 50 words and assign your string answer to the variable `question_clouds`."
      ]
    },
    {
      "cell_type": "code",
      "metadata": {
        "ExecuteTime": {
          "end_time": "2020-01-17T20:44:32.742450Z",
          "start_time": "2020-01-17T20:44:32.737448Z"
        },
        "id": "t0UeusLpkduD"
      },
      "source": [
        "#// BEGIN_TODO [Q11]\n",
        "question_clouds = '''\n",
        "Production itself could depend on multiple factors, heat intensity, sunlight hours, effectiveness of solar panels. \n",
        "There might be overcast days with high production, or clear days with low sunlight and low production.\n",
        "Temperature itself varies over a range of -8 to 30 degrees over the 5 months.\n",
        "'''\n",
        "#// END_TODO [Q11]"
      ],
      "execution_count": null,
      "outputs": []
    },
    {
      "cell_type": "markdown",
      "metadata": {
        "id": "ht3vnG0KkduD"
      },
      "source": [
        "While the `clouds` column alone may not be sufficient for predicting the solar planel output, it can be used in combination with other features. Therefore, one way of improving the simple linear model could be to extend it with more features. You can gain insight into which features could be relevant by plotting the relationship between the features and the labels."
      ]
    },
    {
      "cell_type": "code",
      "metadata": {
        "ExecuteTime": {
          "end_time": "2020-01-17T20:44:32.750453Z",
          "start_time": "2020-01-17T20:44:32.744448Z"
        },
        "id": "7y5EnnzwkduD"
      },
      "source": [
        "# TODO: use the scatter matrix graph to explore the relationship between the features\n",
        "def plot_2d(df, colx, coly):\n",
        "    x = df[colx]\n",
        "    plt.figure(figsize=(20,6))\n",
        "    plt.plot(x, df[coly], 'bo', markersize=1)"
      ],
      "execution_count": null,
      "outputs": []
    },
    {
      "cell_type": "code",
      "metadata": {
        "ExecuteTime": {
          "end_time": "2020-01-17T20:44:32.787718Z",
          "start_time": "2020-01-17T20:44:32.754445Z"
        },
        "id": "cFqXLEHakduD"
      },
      "source": [
        "q12_weather = raw_weather.copy()\n",
        "q12_times = pd.to_datetime(q12_weather[\"time\"])"
      ],
      "execution_count": null,
      "outputs": []
    },
    {
      "cell_type": "code",
      "metadata": {
        "ExecuteTime": {
          "end_time": "2020-01-17T20:44:32.821711Z",
          "start_time": "2020-01-17T20:44:32.790442Z"
        },
        "id": "YThFhHSQkduD"
      },
      "source": [
        "ap_weather = q12_weather.groupby([q12_times.dt.year, q12_times.dt.month, q12_times.dt.dayofyear, q12_times.dt.hour])[\"air pressure\"].agg(np.mean)\n",
        "ap_weather.index.names = [\"year\", \"month\", \"day\", \"hour\"]\n",
        "ap_weather = ap_weather.reset_index()"
      ],
      "execution_count": null,
      "outputs": []
    },
    {
      "cell_type": "code",
      "metadata": {
        "ExecuteTime": {
          "end_time": "2020-01-17T20:44:32.849147Z",
          "start_time": "2020-01-17T20:44:32.824440Z"
        },
        "id": "75BpYaDMkduE",
        "outputId": "07b62bd7-b1bd-4b6f-ef6a-7425289f9e3a"
      },
      "source": [
        "ap_data = pd.merge(energy, ap_weather).dropna().reset_index(drop=True)\n",
        "ap_data = ap_data[ap_data['production'] < 2.55]\n",
        "print(ap_data)\n",
        "# q8_data = q8_data[q8_data['production'] < 2.55]"
      ],
      "execution_count": null,
      "outputs": [
        {
          "output_type": "stream",
          "text": [
            "      year  month  day  hour  total_solar_production  production  air pressure\n",
            "0     2017      1    1     1                  4147.1         0.0   1024.650000\n",
            "1     2017      1    1     2                  4147.1         0.0   1024.066667\n",
            "2     2017      1    1     3                  4147.1         0.0   1023.166667\n",
            "3     2017      1    1     4                  4147.1         0.0   1022.266667\n",
            "4     2017      1    1     5                  4147.1         0.0   1021.616667\n",
            "...    ...    ...  ...   ...                     ...         ...           ...\n",
            "5443  2018      5  144    18                  8069.1         0.0   1016.433333\n",
            "5444  2018      5  144    19                  8069.1         0.0   1016.783333\n",
            "5445  2018      5  144    20                  8069.1         0.0   1016.983333\n",
            "5447  2018      5  144    22                  8078.8         0.0   1017.016667\n",
            "5448  2018      5  144    23                  8078.8         0.0   1017.100000\n",
            "\n",
            "[5423 rows x 7 columns]\n"
          ],
          "name": "stdout"
        }
      ]
    },
    {
      "cell_type": "code",
      "metadata": {
        "ExecuteTime": {
          "end_time": "2020-01-17T20:44:32.896593Z",
          "start_time": "2020-01-17T20:44:32.853146Z"
        },
        "id": "P1yY1tgKkduE"
      },
      "source": [
        "vi_weather = q12_weather.groupby([q12_times.dt.year, q12_times.dt.month, q12_times.dt.dayofyear, q12_times.dt.hour])[\"visibility\"].agg(np.mean)\n",
        "vi_weather.index.names = [\"year\", \"month\", \"day\", \"hour\"]\n",
        "vi_weather = vi_weather.reset_index()"
      ],
      "execution_count": null,
      "outputs": []
    },
    {
      "cell_type": "code",
      "metadata": {
        "ExecuteTime": {
          "end_time": "2020-01-17T20:44:32.928367Z",
          "start_time": "2020-01-17T20:44:32.898537Z"
        },
        "id": "u8fnmhdbkduF",
        "outputId": "b6ddf466-183f-4930-b7fc-b32fdab2b11b"
      },
      "source": [
        "vi_data = pd.merge(energy, vi_weather).dropna().reset_index(drop=True)\n",
        "vi_data = vi_data[vi_data['production'] < 2.55]\n",
        "print(vi_data)"
      ],
      "execution_count": null,
      "outputs": [
        {
          "output_type": "stream",
          "text": [
            "      year  month  day  hour  total_solar_production  production    visibility\n",
            "0     2017      1    1     1                  4147.1         0.0    392.500000\n",
            "1     2017      1    1     2                  4147.1         0.0    332.333333\n",
            "2     2017      1    1     3                  4147.1         0.0    511.500000\n",
            "3     2017      1    1     4                  4147.1         0.0   1758.333333\n",
            "4     2017      1    1     5                  4147.1         0.0   2483.333333\n",
            "...    ...    ...  ...   ...                     ...         ...           ...\n",
            "5443  2018      5  144    18                  8069.1         0.0  31833.333333\n",
            "5444  2018      5  144    19                  8069.1         0.0  17398.333333\n",
            "5445  2018      5  144    20                  8069.1         0.0   9730.000000\n",
            "5447  2018      5  144    22                  8078.8         0.0   8290.000000\n",
            "5448  2018      5  144    23                  8078.8         0.0   9326.666667\n",
            "\n",
            "[5423 rows x 7 columns]\n"
          ],
          "name": "stdout"
        }
      ]
    },
    {
      "cell_type": "code",
      "metadata": {
        "ExecuteTime": {
          "end_time": "2020-01-17T20:44:32.969386Z",
          "start_time": "2020-01-17T20:44:32.930367Z"
        },
        "id": "drQNkBmLkduF"
      },
      "source": [
        "te_weather = q12_weather.groupby([q12_times.dt.year, q12_times.dt.month, q12_times.dt.dayofyear, q12_times.dt.hour])[\"temperature\"].agg(np.mean)\n",
        "te_weather.index.names = [\"year\", \"month\", \"day\", \"hour\"]\n",
        "te_weather = te_weather.reset_index()"
      ],
      "execution_count": null,
      "outputs": []
    },
    {
      "cell_type": "code",
      "metadata": {
        "ExecuteTime": {
          "end_time": "2020-01-17T20:44:32.996381Z",
          "start_time": "2020-01-17T20:44:32.971369Z"
        },
        "id": "COD4p2RFkduF",
        "outputId": "2d146ef8-b150-456c-9f23-91a7843cf906"
      },
      "source": [
        "te_data = pd.merge(energy, te_weather).dropna().reset_index(drop=True)\n",
        "te_data = te_data[te_data['production'] < 2.55]\n",
        "print(te_data)"
      ],
      "execution_count": null,
      "outputs": [
        {
          "output_type": "stream",
          "text": [
            "      year  month  day  hour  total_solar_production  production  temperature\n",
            "0     2017      1    1     1                  4147.1         0.0    -1.416667\n",
            "1     2017      1    1     2                  4147.1         0.0    -1.300000\n",
            "2     2017      1    1     3                  4147.1         0.0    -1.216667\n",
            "3     2017      1    1     4                  4147.1         0.0    -1.216667\n",
            "4     2017      1    1     5                  4147.1         0.0    -1.316667\n",
            "...    ...    ...  ...   ...                     ...         ...          ...\n",
            "5443  2018      5  144    18                  8069.1         0.0    20.866667\n",
            "5444  2018      5  144    19                  8069.1         0.0    19.250000\n",
            "5445  2018      5  144    20                  8069.1         0.0    17.433333\n",
            "5447  2018      5  144    22                  8078.8         0.0    17.433333\n",
            "5448  2018      5  144    23                  8078.8         0.0    17.000000\n",
            "\n",
            "[5423 rows x 7 columns]\n"
          ],
          "name": "stdout"
        }
      ]
    },
    {
      "cell_type": "code",
      "metadata": {
        "ExecuteTime": {
          "end_time": "2020-01-17T20:44:33.036422Z",
          "start_time": "2020-01-17T20:44:32.998367Z"
        },
        "id": "E-cqydpEkduG"
      },
      "source": [
        "hu_weather = q12_weather.groupby([q12_times.dt.year, q12_times.dt.month, q12_times.dt.dayofyear, q12_times.dt.hour])[\"humidity\"].agg(np.mean)\n",
        "hu_weather.index.names = [\"year\", \"month\", \"day\", \"hour\"]\n",
        "hu_weather = hu_weather.reset_index()"
      ],
      "execution_count": null,
      "outputs": []
    },
    {
      "cell_type": "code",
      "metadata": {
        "ExecuteTime": {
          "end_time": "2020-01-17T20:44:33.066368Z",
          "start_time": "2020-01-17T20:44:33.038369Z"
        },
        "id": "F6C1ZOwRkduG",
        "outputId": "b5f38804-535c-476b-8bd5-073f37d5354e"
      },
      "source": [
        "hu_data = pd.merge(energy, hu_weather).dropna().reset_index(drop=True)\n",
        "hu_data = hu_data[hu_data['production'] < 2.55]\n",
        "print(hu_data)"
      ],
      "execution_count": null,
      "outputs": [
        {
          "output_type": "stream",
          "text": [
            "      year  month  day  hour  total_solar_production  production   humidity\n",
            "0     2017      1    1     1                  4147.1         0.0  99.000000\n",
            "1     2017      1    1     2                  4147.1         0.0  99.000000\n",
            "2     2017      1    1     3                  4147.1         0.0  99.000000\n",
            "3     2017      1    1     4                  4147.1         0.0  99.000000\n",
            "4     2017      1    1     5                  4147.1         0.0  99.000000\n",
            "...    ...    ...  ...   ...                     ...         ...        ...\n",
            "5443  2018      5  144    18                  8069.1         0.0  68.333333\n",
            "5444  2018      5  144    19                  8069.1         0.0  79.333333\n",
            "5445  2018      5  144    20                  8069.1         0.0  93.000000\n",
            "5447  2018      5  144    22                  8078.8         0.0  91.166667\n",
            "5448  2018      5  144    23                  8078.8         0.0  93.666667\n",
            "\n",
            "[5423 rows x 7 columns]\n"
          ],
          "name": "stdout"
        }
      ]
    },
    {
      "cell_type": "code",
      "metadata": {
        "ExecuteTime": {
          "end_time": "2020-01-17T20:44:33.105367Z",
          "start_time": "2020-01-17T20:44:33.069367Z"
        },
        "id": "pj-8awwzkduH"
      },
      "source": [
        "ws_weather = q12_weather.groupby([q12_times.dt.year, q12_times.dt.month, q12_times.dt.dayofyear, q12_times.dt.hour])[\"wind speed\"].agg(np.mean)\n",
        "ws_weather.index.names = [\"year\", \"month\", \"day\", \"hour\"]\n",
        "ws_weather = ws_weather.reset_index()"
      ],
      "execution_count": null,
      "outputs": []
    },
    {
      "cell_type": "code",
      "metadata": {
        "ExecuteTime": {
          "end_time": "2020-01-17T20:44:33.133369Z",
          "start_time": "2020-01-17T20:44:33.107368Z"
        },
        "id": "psf-og1LkduH",
        "outputId": "e9669668-68ca-44ac-efed-1f7af1a65b35"
      },
      "source": [
        "ws_data = pd.merge(energy, ws_weather).dropna().reset_index(drop=True)\n",
        "ws_data = ws_data[ws_data['production'] < 2.55]\n",
        "print(ws_data)"
      ],
      "execution_count": null,
      "outputs": [
        {
          "output_type": "stream",
          "text": [
            "      year  month  day  hour  total_solar_production  production  wind speed\n",
            "0     2017      1    1     1                  4147.1         0.0    3.166667\n",
            "1     2017      1    1     2                  4147.1         0.0    4.000000\n",
            "2     2017      1    1     3                  4147.1         0.0    3.333333\n",
            "3     2017      1    1     4                  4147.1         0.0    3.333333\n",
            "4     2017      1    1     5                  4147.1         0.0    3.000000\n",
            "...    ...    ...  ...   ...                     ...         ...         ...\n",
            "5443  2018      5  144    18                  8069.1         0.0    4.166667\n",
            "5444  2018      5  144    19                  8069.1         0.0    3.833333\n",
            "5445  2018      5  144    20                  8069.1         0.0    1.500000\n",
            "5447  2018      5  144    22                  8078.8         0.0    1.833333\n",
            "5448  2018      5  144    23                  8078.8         0.0    1.333333\n",
            "\n",
            "[5423 rows x 7 columns]\n"
          ],
          "name": "stdout"
        }
      ]
    },
    {
      "cell_type": "code",
      "metadata": {
        "ExecuteTime": {
          "end_time": "2020-01-17T20:44:34.609610Z",
          "start_time": "2020-01-17T20:44:33.137369Z"
        },
        "id": "po1i-SJukduH",
        "outputId": "f85ba52e-193f-419a-bd98-a096a3b222b6"
      },
      "source": [
        "plot_2d(data_no_outliers, \"day\", \"production\")\n",
        "plot_2d(ap_data, \"air pressure\", \"production\")\n",
        "plot_2d(vi_data, \"visibility\", \"production\")\n",
        "plot_2d(te_data, \"temperature\", \"production\")\n",
        "plot_2d(hu_data, \"humidity\", \"production\")\n",
        "plot_2d(ws_data, \"wind speed\", \"production\")\n",
        "# plot_2d(data_no_outliers, \"production\", \"air pressure\")\n",
        "# plot_2d(data_no_outliers, \"production\", \"humidity\")\n",
        "# all_combined = pd.merge(energy, hu_weather)\n"
      ],
      "execution_count": null,
      "outputs": [
        {
          "output_type": "display_data",
          "data": {
            "image/png": "[encoded data removed]",
            "text/plain": [
              "<Figure size 1440x432 with 1 Axes>"
            ]
          },
          "metadata": {
            "tags": [],
            "needs_background": "light"
          }
        },
        {
          "output_type": "display_data",
          "data": {
            "image/png": "[encoded data removed]",
            "text/plain": [
              "<Figure size 1440x432 with 1 Axes>"
            ]
          },
          "metadata": {
            "tags": [],
            "needs_background": "light"
          }
        },
        {
          "output_type": "display_data",
          "data": {
            "image/png": "[encoded data removed]",
            "text/plain": [
              "<Figure size 1440x432 with 1 Axes>"
            ]
          },
          "metadata": {
            "tags": [],
            "needs_background": "light"
          }
        },
        {
          "output_type": "display_data",
          "data": {
            "image/png": "[encoded data removed]",
            "text/plain": [
              "<Figure size 1440x432 with 1 Axes>"
            ]
          },
          "metadata": {
            "tags": [],
            "needs_background": "light"
          }
        },
        {
          "output_type": "display_data",
          "data": {
            "image/png": "[encoded data removed]",
            "text/plain": [
              "<Figure size 1440x432 with 1 Axes>"
            ]
          },
          "metadata": {
            "tags": [],
            "needs_background": "light"
          }
        },
        {
          "output_type": "display_data",
          "data": {
            "image/png": "[encoded data removed]",
            "text/plain": [
              "<Figure size 1440x432 with 1 Axes>"
            ]
          },
          "metadata": {
            "tags": [],
            "needs_background": "light"
          }
        }
      ]
    },
    {
      "cell_type": "code",
      "metadata": {
        "ExecuteTime": {
          "end_time": "2020-01-17T20:44:34.710493Z",
          "start_time": "2020-01-17T20:44:34.611569Z"
        },
        "id": "WCwzgOvlkduI",
        "outputId": "e3503e17-be6c-4f51-b1bb-4d3e06f4ce64"
      },
      "source": [
        "all_combined = pd.merge(data_no_outliers, ap_data).dropna().reset_index(drop=True)\n",
        "all_combined = pd.merge(all_combined, vi_data).dropna().reset_index(drop=True)\n",
        "all_combined = pd.merge(all_combined, te_data).dropna().reset_index(drop=True)\n",
        "all_combined = pd.merge(all_combined, hu_data).dropna().reset_index(drop=True)\n",
        "all_combined = pd.merge(all_combined, ws_data).dropna().reset_index(drop=True)\n",
        "print(all_combined)"
      ],
      "execution_count": null,
      "outputs": [
        {
          "output_type": "stream",
          "text": [
            "      year  month  day  hour  total_solar_production  production  clouds  \\\n",
            "0     2017      1    1     1                  4147.1         0.0     0.0   \n",
            "1     2017      1    1     2                  4147.1         0.0     0.0   \n",
            "2     2017      1    1     3                  4147.1         0.0     0.0   \n",
            "3     2017      1    1     4                  4147.1         0.0     0.0   \n",
            "4     2017      1    1     5                  4147.1         0.0     0.0   \n",
            "...    ...    ...  ...   ...                     ...         ...     ...   \n",
            "5418  2018      5  144    18                  8069.1         0.0     0.0   \n",
            "5419  2018      5  144    19                  8069.1         0.0     0.0   \n",
            "5420  2018      5  144    20                  8069.1         0.0     0.0   \n",
            "5421  2018      5  144    22                  8078.8         0.0     0.0   \n",
            "5422  2018      5  144    23                  8078.8         0.0     0.0   \n",
            "\n",
            "      air pressure    visibility  temperature   humidity  wind speed  \n",
            "0      1024.650000    392.500000    -1.416667  99.000000    3.166667  \n",
            "1      1024.066667    332.333333    -1.300000  99.000000    4.000000  \n",
            "2      1023.166667    511.500000    -1.216667  99.000000    3.333333  \n",
            "3      1022.266667   1758.333333    -1.216667  99.000000    3.333333  \n",
            "4      1021.616667   2483.333333    -1.316667  99.000000    3.000000  \n",
            "...            ...           ...          ...        ...         ...  \n",
            "5418   1016.433333  31833.333333    20.866667  68.333333    4.166667  \n",
            "5419   1016.783333  17398.333333    19.250000  79.333333    3.833333  \n",
            "5420   1016.983333   9730.000000    17.433333  93.000000    1.500000  \n",
            "5421   1017.016667   8290.000000    17.433333  91.166667    1.833333  \n",
            "5422   1017.100000   9326.666667    17.000000  93.666667    1.333333  \n",
            "\n",
            "[5423 rows x 12 columns]\n"
          ],
          "name": "stdout"
        }
      ]
    },
    {
      "cell_type": "markdown",
      "metadata": {
        "id": "rVRQdxzgkduI"
      },
      "source": [
        "### Question 12 ###\n",
        "\n",
        "Which features are most promising for predicting the solar panel output? Select two most promising features:\n",
        "\n",
        "- `'year'`\n",
        "- `'month'`\n",
        "- `'day'`\n",
        "- `'hour'`\n",
        "- `'air pressure'`\n",
        "- `'humidity'`\n",
        "- `'visibility'`\n",
        "- `'wind speed'`\n",
        "- `'temperature'`\n",
        "\n",
        "Assign a list of strings corresponding to the promising features to variable `question_features`."
      ]
    },
    {
      "cell_type": "code",
      "metadata": {
        "ExecuteTime": {
          "end_time": "2020-01-17T20:44:34.717470Z",
          "start_time": "2020-01-17T20:44:34.712453Z"
        },
        "id": "vZWELvUTkduI"
      },
      "source": [
        "#// BEGIN_TODO [Q12]\n",
        "question_features = ['temperature', 'humidity']\n",
        "#// END_TODO [Q12]"
      ],
      "execution_count": null,
      "outputs": []
    },
    {
      "cell_type": "markdown",
      "metadata": {
        "id": "aYQvbIrUkduI"
      },
      "source": [
        "Note that using additional features may require aggregating them per hour. The `clouds` feature was aggregated taking the maximum value within a given hour, but this may not be suitable for all features."
      ]
    },
    {
      "cell_type": "markdown",
      "metadata": {
        "id": "Et0YCJMxkduJ"
      },
      "source": [
        "### Question 13 ###\n",
        "\n",
        "Using your new-found knowledge of the features, re-define the data on which you train and evaluate your model. Try to improve your model as much as possible by only changing the selection of features.\n",
        "\n",
        "Assign your new data, new model and the corresponding MAD score to the variables `improved_data`, `improved_model`, `improved_mad`, respectively."
      ]
    },
    {
      "cell_type": "code",
      "metadata": {
        "ExecuteTime": {
          "end_time": "2020-01-17T20:44:34.740473Z",
          "start_time": "2020-01-17T20:44:34.721454Z"
        },
        "id": "bSrhFroUkduJ",
        "outputId": "2260251b-179f-4045-812d-6f2e805620dd"
      },
      "source": [
        "q13_data = all_combined.copy()\n",
        "print(all_combined)"
      ],
      "execution_count": null,
      "outputs": [
        {
          "output_type": "stream",
          "text": [
            "      year  month  day  hour  total_solar_production  production  clouds  \\\n",
            "0     2017      1    1     1                  4147.1         0.0     0.0   \n",
            "1     2017      1    1     2                  4147.1         0.0     0.0   \n",
            "2     2017      1    1     3                  4147.1         0.0     0.0   \n",
            "3     2017      1    1     4                  4147.1         0.0     0.0   \n",
            "4     2017      1    1     5                  4147.1         0.0     0.0   \n",
            "...    ...    ...  ...   ...                     ...         ...     ...   \n",
            "5418  2018      5  144    18                  8069.1         0.0     0.0   \n",
            "5419  2018      5  144    19                  8069.1         0.0     0.0   \n",
            "5420  2018      5  144    20                  8069.1         0.0     0.0   \n",
            "5421  2018      5  144    22                  8078.8         0.0     0.0   \n",
            "5422  2018      5  144    23                  8078.8         0.0     0.0   \n",
            "\n",
            "      air pressure    visibility  temperature   humidity  wind speed  \n",
            "0      1024.650000    392.500000    -1.416667  99.000000    3.166667  \n",
            "1      1024.066667    332.333333    -1.300000  99.000000    4.000000  \n",
            "2      1023.166667    511.500000    -1.216667  99.000000    3.333333  \n",
            "3      1022.266667   1758.333333    -1.216667  99.000000    3.333333  \n",
            "4      1021.616667   2483.333333    -1.316667  99.000000    3.000000  \n",
            "...            ...           ...          ...        ...         ...  \n",
            "5418   1016.433333  31833.333333    20.866667  68.333333    4.166667  \n",
            "5419   1016.783333  17398.333333    19.250000  79.333333    3.833333  \n",
            "5420   1016.983333   9730.000000    17.433333  93.000000    1.500000  \n",
            "5421   1017.016667   8290.000000    17.433333  91.166667    1.833333  \n",
            "5422   1017.100000   9326.666667    17.000000  93.666667    1.333333  \n",
            "\n",
            "[5423 rows x 12 columns]\n"
          ],
          "name": "stdout"
        }
      ]
    },
    {
      "cell_type": "code",
      "metadata": {
        "ExecuteTime": {
          "end_time": "2020-01-17T20:44:35.175721Z",
          "start_time": "2020-01-17T20:44:34.743532Z"
        },
        "id": "6pOmDMInkduT",
        "outputId": "4cd4f23b-cc58-4ca0-911f-a4b667e7e3b7"
      },
      "source": [
        "q13_x = q13_data[[\"clouds\"]].values\n",
        "q13_y = q13_data[\"production\"].values\n",
        "q13_x_train, q13_x_test, q13_y_train, q13_y_test = train_test_split(q13_x, q13_y, test_size=0.2, random_state=42)\n",
        "\n",
        "q13_model = LinearRegression()\n",
        "print(q13_model.fit(q13_x_train, q13_y_train))\n",
        "\n",
        "q13_x_plot = np.linspace(min(q13_x), max(q13_x), 100)\n",
        "q13_x_plot = q13_x_plot.reshape(-1, 1)\n",
        "q13_y_plot = q13_model.predict(q13_x_plot)\n",
        "\n",
        "dots, = plt.plot(q13_x_test, q13_y_test, 'bo', markersize=2, color=\"red\", label=\"training data\");\n",
        "line, = plt.plot(q13_x_plot, q13_y_plot, linewidth=2, label=\"model\");\n",
        "plt.legend(handles=[dots, line])\n",
        "\n",
        "print('Score =', q13_model.score(q13_x_test, q13_y_test))\n",
        "\n",
        "q13_y_pred = q13_model.predict(q13_x_test)\n",
        "plt.title(\"Distribution of the residuals\")\n",
        "plt.hist(q13_y_test - q13_y_pred, 50)\n",
        "\n",
        "# y_pred = model.predict(X_test)\n",
        "print('MAD =', mean_absolute_error(q13_y_test, q13_y_pred))"
      ],
      "execution_count": null,
      "outputs": [
        {
          "output_type": "stream",
          "text": [
            "LinearRegression(copy_X=True, fit_intercept=True, n_jobs=None, normalize=False)\n",
            "Score = 0.025607651535383358\n",
            "MAD = 0.3834030597203876\n"
          ],
          "name": "stdout"
        },
        {
          "output_type": "display_data",
          "data": {
            "image/png": "[encoded data removed]",
            "text/plain": [
              "<Figure size 432x288 with 1 Axes>"
            ]
          },
          "metadata": {
            "tags": [],
            "needs_background": "light"
          }
        }
      ]
    },
    {
      "cell_type": "code",
      "metadata": {
        "ExecuteTime": {
          "end_time": "2020-01-17T20:44:35.561150Z",
          "start_time": "2020-01-17T20:44:35.177726Z"
        },
        "id": "N9Vh9jF_kduU",
        "outputId": "88743eed-a52b-4de7-8a14-3491118665bd"
      },
      "source": [
        "q13_x = q13_data[[\"temperature\"]].values\n",
        "q13_y = q13_data[\"production\"].values\n",
        "q13_x_train, q13_x_test, q13_y_train, q13_y_test = train_test_split(q13_x, q13_y, test_size=0.2, random_state=42)\n",
        "\n",
        "q13_model = LinearRegression()\n",
        "print(q13_model.fit(q13_x_train, q13_y_train))\n",
        "\n",
        "q13_x_plot = np.linspace(min(q13_x), max(q13_x), 100)\n",
        "q13_x_plot = q13_x_plot.reshape(-1, 1)\n",
        "q13_y_plot = q13_model.predict(q13_x_plot)\n",
        "\n",
        "dots, = plt.plot(q13_x_test, q13_y_test, 'bo', markersize=2, color=\"red\", label=\"training data\");\n",
        "line, = plt.plot(q13_x_plot, q13_y_plot, linewidth=2, label=\"model\");\n",
        "plt.legend(handles=[dots, line])\n",
        "\n",
        "print('Score =', q13_model.score(q13_x_test, q13_y_test))\n",
        "\n",
        "q13_y_pred = q13_model.predict(q13_x_test)\n",
        "plt.title(\"Distribution of the residuals\")\n",
        "plt.hist(q13_y_test - q13_y_pred, 50)\n",
        "\n",
        "# y_pred = model.predict(X_test)\n",
        "print('MAD =', mean_absolute_error(q13_y_test, q13_y_pred))"
      ],
      "execution_count": null,
      "outputs": [
        {
          "output_type": "stream",
          "text": [
            "LinearRegression(copy_X=True, fit_intercept=True, n_jobs=None, normalize=False)\n",
            "Score = 0.1888831966415654\n",
            "MAD = 0.33495365664418175\n"
          ],
          "name": "stdout"
        },
        {
          "output_type": "display_data",
          "data": {
            "image/png": "[encoded data removed]",
            "text/plain": [
              "<Figure size 432x288 with 1 Axes>"
            ]
          },
          "metadata": {
            "tags": [],
            "needs_background": "light"
          }
        }
      ]
    },
    {
      "cell_type": "code",
      "metadata": {
        "ExecuteTime": {
          "end_time": "2020-01-17T20:44:35.925465Z",
          "start_time": "2020-01-17T20:44:35.564157Z"
        },
        "id": "bFeNrPeIkduU",
        "outputId": "db49bc02-9ca5-44d7-b435-6f6079aa8a97"
      },
      "source": [
        "q13_x = q13_data[[\"visibility\"]].values\n",
        "q13_y = q13_data[\"production\"].values\n",
        "q13_x_train, q13_x_test, q13_y_train, q13_y_test = train_test_split(q13_x, q13_y, test_size=0.2, random_state=42)\n",
        "\n",
        "q13_model = LinearRegression()\n",
        "print(q13_model.fit(q13_x_train, q13_y_train))\n",
        "\n",
        "q13_x_plot = np.linspace(min(q13_x), max(q13_x), 100)\n",
        "q13_x_plot = q13_x_plot.reshape(-1, 1)\n",
        "q13_y_plot = q13_model.predict(q13_x_plot)\n",
        "\n",
        "dots, = plt.plot(q13_x_test, q13_y_test, 'bo', markersize=2, color=\"red\", label=\"training data\");\n",
        "line, = plt.plot(q13_x_plot, q13_y_plot, linewidth=2, label=\"model\");\n",
        "plt.legend(handles=[dots, line])\n",
        "\n",
        "print('Score =', q13_model.score(q13_x_test, q13_y_test))\n",
        "\n",
        "q13_y_pred = q13_model.predict(q13_x_test)\n",
        "plt.title(\"Distribution of the residuals\")\n",
        "plt.hist(q13_y_test - q13_y_pred, 50)\n",
        "\n",
        "# y_pred = model.predict(X_test)\n",
        "print('MAD =', mean_absolute_error(q13_y_test, q13_y_pred))"
      ],
      "execution_count": null,
      "outputs": [
        {
          "output_type": "stream",
          "text": [
            "LinearRegression(copy_X=True, fit_intercept=True, n_jobs=None, normalize=False)\n",
            "Score = 0.02365816058812531\n",
            "MAD = 0.3778254022335378\n"
          ],
          "name": "stdout"
        },
        {
          "output_type": "display_data",
          "data": {
            "image/png": "[encoded data removed]",
            "text/plain": [
              "<Figure size 432x288 with 1 Axes>"
            ]
          },
          "metadata": {
            "tags": [],
            "needs_background": "light"
          }
        }
      ]
    },
    {
      "cell_type": "code",
      "metadata": {
        "ExecuteTime": {
          "end_time": "2020-01-17T20:44:36.313524Z",
          "start_time": "2020-01-17T20:44:35.927467Z"
        },
        "id": "NdMjpFN8kduU",
        "outputId": "ca8ecd77-ac5d-4ec6-d294-b53e4c3ae3f0"
      },
      "source": [
        "q13_x = q13_data[[\"wind speed\"]].values\n",
        "q13_y = q13_data[\"production\"].values\n",
        "q13_x_train, q13_x_test, q13_y_train, q13_y_test = train_test_split(q13_x, q13_y, test_size=0.2, random_state=42)\n",
        "\n",
        "q13_model = LinearRegression()\n",
        "print(q13_model.fit(q13_x_train, q13_y_train))\n",
        "\n",
        "q13_x_plot = np.linspace(min(q13_x), max(q13_x), 100)\n",
        "q13_x_plot = q13_x_plot.reshape(-1, 1)\n",
        "q13_y_plot = q13_model.predict(q13_x_plot)\n",
        "\n",
        "dots, = plt.plot(q13_x_test, q13_y_test, 'bo', markersize=2, color=\"red\", label=\"training data\");\n",
        "line, = plt.plot(q13_x_plot, q13_y_plot, linewidth=2, label=\"model\");\n",
        "plt.legend(handles=[dots, line])\n",
        "\n",
        "print('Score =', q13_model.score(q13_x_test, q13_y_test))\n",
        "\n",
        "q13_y_pred = q13_model.predict(q13_x_test)\n",
        "plt.title(\"Distribution of the residuals\")\n",
        "plt.hist(q13_y_test - q13_y_pred, 50)\n",
        "\n",
        "# y_pred = model.predict(X_test)\n",
        "print('MAD =', mean_absolute_error(q13_y_test, q13_y_pred))"
      ],
      "execution_count": null,
      "outputs": [
        {
          "output_type": "stream",
          "text": [
            "LinearRegression(copy_X=True, fit_intercept=True, n_jobs=None, normalize=False)\n",
            "Score = -0.009051261167933422\n",
            "MAD = 0.3895379797370577\n"
          ],
          "name": "stdout"
        },
        {
          "output_type": "display_data",
          "data": {
            "image/png": "[encoded data removed]",
            "text/plain": [
              "<Figure size 432x288 with 1 Axes>"
            ]
          },
          "metadata": {
            "tags": [],
            "needs_background": "light"
          }
        }
      ]
    },
    {
      "cell_type": "code",
      "metadata": {
        "ExecuteTime": {
          "end_time": "2020-01-17T20:44:36.694234Z",
          "start_time": "2020-01-17T20:44:36.316514Z"
        },
        "id": "9zHWjqWHkduV",
        "outputId": "03d7b77f-bb16-46a3-f595-1c636fefefe5"
      },
      "source": [
        "q13_x = q13_data[[\"air pressure\"]].values\n",
        "q13_y = q13_data[\"production\"].values\n",
        "q13_x_train, q13_x_test, q13_y_train, q13_y_test = train_test_split(q13_x, q13_y, test_size=0.2, random_state=42)\n",
        "\n",
        "q13_model = LinearRegression()\n",
        "print(q13_model.fit(q13_x_train, q13_y_train))\n",
        "\n",
        "q13_x_plot = np.linspace(min(q13_x), max(q13_x), 100)\n",
        "q13_x_plot = q13_x_plot.reshape(-1, 1)\n",
        "q13_y_plot = q13_model.predict(q13_x_plot)\n",
        "\n",
        "dots, = plt.plot(q13_x_test, q13_y_test, 'bo', markersize=2, color=\"red\", label=\"training data\");\n",
        "line, = plt.plot(q13_x_plot, q13_y_plot, linewidth=2, label=\"model\");\n",
        "plt.legend(handles=[dots, line])\n",
        "\n",
        "print('Score =', q13_model.score(q13_x_test, q13_y_test))\n",
        "\n",
        "q13_y_pred = q13_model.predict(q13_x_test)\n",
        "plt.title(\"Distribution of the residuals\")\n",
        "plt.hist(q13_y_test - q13_y_pred, 50)\n",
        "\n",
        "# y_pred = model.predict(X_test)\n",
        "print('MAD =', mean_absolute_error(q13_y_test, q13_y_pred))"
      ],
      "execution_count": null,
      "outputs": [
        {
          "output_type": "stream",
          "text": [
            "LinearRegression(copy_X=True, fit_intercept=True, n_jobs=None, normalize=False)\n",
            "Score = 0.007846150585806955\n",
            "MAD = 0.3880404077738483\n"
          ],
          "name": "stdout"
        },
        {
          "output_type": "display_data",
          "data": {
            "image/png": "[encoded data removed]",
            "text/plain": [
              "<Figure size 432x288 with 1 Axes>"
            ]
          },
          "metadata": {
            "tags": [],
            "needs_background": "light"
          }
        }
      ]
    },
    {
      "cell_type": "code",
      "metadata": {
        "ExecuteTime": {
          "end_time": "2020-01-17T20:44:37.107788Z",
          "start_time": "2020-01-17T20:44:36.696175Z"
        },
        "id": "TsguY82ckduV",
        "outputId": "f45f02b4-18ee-4e85-bef4-a0c0da13ec33"
      },
      "source": [
        "q13_x = q13_data[[\"day\"]].values\n",
        "q13_y = q13_data[\"production\"].values\n",
        "q13_x_train, q13_x_test, q13_y_train, q13_y_test = train_test_split(q13_x, q13_y, test_size=0.2, random_state=42)\n",
        "\n",
        "q13_model = LinearRegression()\n",
        "print(q13_model.fit(q13_x_train, q13_y_train))\n",
        "\n",
        "q13_x_plot = np.linspace(min(q13_x), max(q13_x), 100)\n",
        "q13_x_plot = q13_x_plot.reshape(-1, 1)\n",
        "q13_y_plot = q13_model.predict(q13_x_plot)\n",
        "\n",
        "dots, = plt.plot(q13_x_test, q13_y_test, 'bo', markersize=2, color=\"red\", label=\"training data\");\n",
        "line, = plt.plot(q13_x_plot, q13_y_plot, linewidth=2, label=\"model\");\n",
        "plt.legend(handles=[dots, line])\n",
        "\n",
        "print('Score =', q13_model.score(q13_x_test, q13_y_test))\n",
        "\n",
        "q13_y_pred = q13_model.predict(q13_x_test)\n",
        "plt.title(\"Distribution of the residuals\")\n",
        "plt.hist(q13_y_test - q13_y_pred, 50)\n",
        "\n",
        "# y_pred = model.predict(X_test)\n",
        "print('MAD =', mean_absolute_error(q13_y_test, q13_y_pred))\n"
      ],
      "execution_count": null,
      "outputs": [
        {
          "output_type": "stream",
          "text": [
            "LinearRegression(copy_X=True, fit_intercept=True, n_jobs=None, normalize=False)\n",
            "Score = 0.07162564191966003\n",
            "MAD = 0.3621883198790055\n"
          ],
          "name": "stdout"
        },
        {
          "output_type": "display_data",
          "data": {
            "image/png": "[encoded data removed]",
            "text/plain": [
              "<Figure size 432x288 with 1 Axes>"
            ]
          },
          "metadata": {
            "tags": [],
            "needs_background": "light"
          }
        }
      ]
    },
    {
      "cell_type": "code",
      "metadata": {
        "ExecuteTime": {
          "end_time": "2020-01-17T20:44:37.515617Z",
          "start_time": "2020-01-17T20:44:37.109785Z"
        },
        "id": "LmyJIIAzkduW",
        "outputId": "9046a230-2971-462a-c10a-f112bc6ac1e4"
      },
      "source": [
        "q13_x = q13_data[[\"hour\"]].values\n",
        "q13_y = q13_data[\"production\"].values\n",
        "q13_x_train, q13_x_test, q13_y_train, q13_y_test = train_test_split(q13_x, q13_y, test_size=0.2, random_state=42)\n",
        "\n",
        "q13_model = LinearRegression()\n",
        "print(q13_model.fit(q13_x_train, q13_y_train))\n",
        "\n",
        "q13_x_plot = np.linspace(min(q13_x), max(q13_x), 100)\n",
        "q13_x_plot = q13_x_plot.reshape(-1, 1)\n",
        "q13_y_plot = q13_model.predict(q13_x_plot)\n",
        "\n",
        "dots, = plt.plot(q13_x_test, q13_y_test, 'bo', markersize=2, color=\"red\", label=\"training data\");\n",
        "line, = plt.plot(q13_x_plot, q13_y_plot, linewidth=2, label=\"model\");\n",
        "plt.legend(handles=[dots, line])\n",
        "\n",
        "print('Score =', q13_model.score(q13_x_test, q13_y_test))\n",
        "\n",
        "q13_y_pred = q13_model.predict(q13_x_test)\n",
        "plt.title(\"Distribution of the residuals\")\n",
        "plt.hist(q13_y_test - q13_y_pred, 50)\n",
        "\n",
        "# y_pred = model.predict(X_test)\n",
        "print('MAD =', mean_absolute_error(q13_y_test, q13_y_pred))\n",
        "\n",
        "# q13_humidity_model = q13_model\n",
        "# q13_humidity_mad = mean_absolute_error(q13_y_test, q13_y_pred)"
      ],
      "execution_count": null,
      "outputs": [
        {
          "output_type": "stream",
          "text": [
            "LinearRegression(copy_X=True, fit_intercept=True, n_jobs=None, normalize=False)\n",
            "Score = -9.860150537477352e-05\n",
            "MAD = 0.3896668587977614\n"
          ],
          "name": "stdout"
        },
        {
          "output_type": "display_data",
          "data": {
            "image/png": "[encoded data removed]",
            "text/plain": [
              "<Figure size 432x288 with 1 Axes>"
            ]
          },
          "metadata": {
            "tags": [],
            "needs_background": "light"
          }
        }
      ]
    },
    {
      "cell_type": "code",
      "metadata": {
        "ExecuteTime": {
          "end_time": "2020-01-17T20:44:37.940709Z",
          "start_time": "2020-01-17T20:44:37.518621Z"
        },
        "id": "bhqAuclbkduW",
        "outputId": "f9e0a267-bef9-4c76-9edb-98f973740d33"
      },
      "source": [
        "q13_x = q13_data[[\"humidity\"]].values\n",
        "q13_y = q13_data[\"production\"].values\n",
        "q13_x_train, q13_x_test, q13_y_train, q13_y_test = train_test_split(q13_x, q13_y, test_size=0.2, random_state=42)\n",
        "\n",
        "q13_model = LinearRegression()\n",
        "print(q13_model.fit(q13_x_train, q13_y_train))\n",
        "\n",
        "q13_x_plot = np.linspace(min(q13_x), max(q13_x), 100)\n",
        "q13_x_plot = q13_x_plot.reshape(-1, 1)\n",
        "q13_y_plot = q13_model.predict(q13_x_plot)\n",
        "\n",
        "dots, = plt.plot(q13_x_test, q13_y_test, 'bo', markersize=2, color=\"red\", label=\"training data\");\n",
        "line, = plt.plot(q13_x_plot, q13_y_plot, linewidth=2, label=\"model\");\n",
        "plt.legend(handles=[dots, line])\n",
        "\n",
        "print('Score =', q13_model.score(q13_x_test, q13_y_test))\n",
        "\n",
        "q13_y_pred = q13_model.predict(q13_x_test)\n",
        "plt.title(\"Distribution of the residuals\")\n",
        "plt.hist(q13_y_test - q13_y_pred, 50)\n",
        "\n",
        "# y_pred = model.predict(X_test)\n",
        "print('MAD =', mean_absolute_error(q13_y_test, q13_y_pred))\n",
        "\n",
        "q13_humidity_model = q13_model\n",
        "q13_humidity_mad = mean_absolute_error(q13_y_test, q13_y_pred)"
      ],
      "execution_count": null,
      "outputs": [
        {
          "output_type": "stream",
          "text": [
            "LinearRegression(copy_X=True, fit_intercept=True, n_jobs=None, normalize=False)\n",
            "Score = 0.266111557543255\n",
            "MAD = 0.3152423607357361\n"
          ],
          "name": "stdout"
        },
        {
          "output_type": "display_data",
          "data": {
            "image/png": "[encoded data removed]",
            "text/plain": [
              "<Figure size 432x288 with 1 Axes>"
            ]
          },
          "metadata": {
            "tags": [],
            "needs_background": "light"
          }
        }
      ]
    },
    {
      "cell_type": "code",
      "metadata": {
        "ExecuteTime": {
          "end_time": "2020-01-17T20:44:37.947910Z",
          "start_time": "2020-01-17T20:44:37.942891Z"
        },
        "id": "Ast-S9zSkduW"
      },
      "source": [
        "#// BEGIN_TODO [Q13]\n",
        "# Humidity proved to be the best performing feature selection, at least in my limited experimentation. \n",
        "improved_data = q13_data.copy()\n",
        "improved_model = q13_humidity_model\n",
        "improved_mad = q13_humidity_mad\n",
        "#// END_TODO [Q13]"
      ],
      "execution_count": null,
      "outputs": []
    },
    {
      "cell_type": "markdown",
      "metadata": {
        "id": "xkR1Y_qekduW"
      },
      "source": [
        "#### Choose a more or less flexible model\n",
        "\n",
        "Another way is to add flexibility to the model e.g. by changing it to a polynomial model or a neural network. You can read more about simple extensions of the linear model in Section 3.3.2 and 6.2 of \"Introduction to Statistical Learning\"."
      ]
    },
    {
      "cell_type": "code",
      "metadata": {
        "ExecuteTime": {
          "end_time": "2020-01-17T20:44:37.957880Z",
          "start_time": "2020-01-17T20:44:37.950880Z"
        },
        "id": "fuDdgCrJkduX"
      },
      "source": [
        "# TODO: explore other models for predicting the solar panel output and evaluate their perfromance in terms of R2 score and mean absolute deviation\n",
        "nn_x = q13_data[[\"day\", \"hour\", \"clouds\", \"air pressure\", \"visibility\", \"temperature\", \"humidity\", \"wind speed\"]].values\n",
        "nn_y = q13_data[\"production\"].values"
      ],
      "execution_count": null,
      "outputs": []
    },
    {
      "cell_type": "code",
      "metadata": {
        "ExecuteTime": {
          "end_time": "2020-01-17T20:44:37.970448Z",
          "start_time": "2020-01-17T20:44:37.962454Z"
        },
        "id": "lwYQ4DMykduX"
      },
      "source": [
        "nn_x_train, nn_x_test, nn_y_train, nn_y_test = train_test_split(nn_x, nn_y, test_size=0.2, random_state=42)"
      ],
      "execution_count": null,
      "outputs": []
    },
    {
      "cell_type": "code",
      "metadata": {
        "ExecuteTime": {
          "end_time": "2020-01-17T20:44:38.309382Z",
          "start_time": "2020-01-17T20:44:37.972450Z"
        },
        "id": "0jrB75VWkduX",
        "outputId": "4752b80d-deaa-450a-92ea-cc1dc82b4c39"
      },
      "source": [
        "clf_1 = MLPRegressor(solver='lbfgs', alpha=1e-5, hidden_layer_sizes=(5, 2), random_state=1)\n",
        "\n",
        "print(clf_1.fit(nn_x_train, nn_y_train))\n",
        "print('Score =', clf_1.score(nn_x_test, nn_y_test))\n",
        "nn_y_pred = clf_1.predict(nn_x_test)\n",
        "plt.title(\"Distribution of the residuals\")\n",
        "plt.hist(nn_y_test - nn_y_pred, 50)\n",
        "# y_pred = model.predict(X_test)\n",
        "print('MAD =', mean_absolute_error(nn_y_test, nn_y_pred))"
      ],
      "execution_count": null,
      "outputs": [
        {
          "output_type": "stream",
          "text": [
            "MLPRegressor(activation='relu', alpha=1e-05, batch_size='auto', beta_1=0.9,\n",
            "             beta_2=0.999, early_stopping=False, epsilon=1e-08,\n",
            "             hidden_layer_sizes=(5, 2), learning_rate='constant',\n",
            "             learning_rate_init=0.001, max_fun=15000, max_iter=200,\n",
            "             momentum=0.9, n_iter_no_change=10, nesterovs_momentum=True,\n",
            "             power_t=0.5, random_state=1, shuffle=True, solver='lbfgs',\n",
            "             tol=0.0001, validation_fraction=0.1, verbose=False,\n",
            "             warm_start=False)\n",
            "Score = -0.0009498527866751427\n",
            "MAD = 0.38964066347555404\n"
          ],
          "name": "stdout"
        },
        {
          "output_type": "display_data",
          "data": {
            "image/png": "[encoded data removed]",
            "text/plain": [
              "<Figure size 432x288 with 1 Axes>"
            ]
          },
          "metadata": {
            "tags": [],
            "needs_background": "light"
          }
        }
      ]
    },
    {
      "cell_type": "code",
      "metadata": {
        "ExecuteTime": {
          "end_time": "2020-01-17T20:44:42.634227Z",
          "start_time": "2020-01-17T20:44:38.311385Z"
        },
        "id": "bqx4qCiikduY",
        "outputId": "5f986368-d046-4cb9-a051-6c7da88559b4"
      },
      "source": [
        "clf_2 = MLPRegressor(solver='lbfgs', alpha=1e-5, hidden_layer_sizes=(8, 4), random_state=1, max_iter=20000, early_stopping = True)\n",
        "\n",
        "print(clf_2.fit(nn_x_train, nn_y_train))\n",
        "print('Score =', clf_2.score(nn_x_test, nn_y_test))\n",
        "nn_y_pred = clf_2.predict(nn_x_test)\n",
        "plt.title(\"Distribution of the residuals\")\n",
        "plt.hist(nn_y_test - nn_y_pred, 50)\n",
        "# y_pred = model.predict(X_test)\n",
        "print('MAD =', mean_absolute_error(nn_y_test, nn_y_pred))"
      ],
      "execution_count": null,
      "outputs": [
        {
          "output_type": "stream",
          "text": [
            "MLPRegressor(activation='relu', alpha=1e-05, batch_size='auto', beta_1=0.9,\n",
            "             beta_2=0.999, early_stopping=True, epsilon=1e-08,\n",
            "             hidden_layer_sizes=(8, 4), learning_rate='constant',\n",
            "             learning_rate_init=0.001, max_fun=15000, max_iter=20000,\n",
            "             momentum=0.9, n_iter_no_change=10, nesterovs_momentum=True,\n",
            "             power_t=0.5, random_state=1, shuffle=True, solver='lbfgs',\n",
            "             tol=0.0001, validation_fraction=0.1, verbose=False,\n",
            "             warm_start=False)\n",
            "Score = 0.3003298413497473\n",
            "MAD = 0.3257233377116939\n"
          ],
          "name": "stdout"
        },
        {
          "output_type": "display_data",
          "data": {
            "image/png": "[encoded data removed]",
            "text/plain": [
              "<Figure size 432x288 with 1 Axes>"
            ]
          },
          "metadata": {
            "tags": [],
            "needs_background": "light"
          }
        }
      ]
    },
    {
      "cell_type": "code",
      "metadata": {
        "ExecuteTime": {
          "end_time": "2020-01-17T20:44:44.803483Z",
          "start_time": "2020-01-17T20:44:42.636225Z"
        },
        "id": "f6hd7-NakduZ",
        "outputId": "0aea2084-bb1b-429c-907a-85287050ad81"
      },
      "source": [
        "clf_3 = MLPRegressor(solver='lbfgs', alpha=1e-6, hidden_layer_sizes=(9, 6), random_state=1, max_iter=20000, early_stopping = True)\n",
        "\n",
        "print(clf_3.fit(nn_x_train, nn_y_train))\n",
        "print('Score =', clf_3.score(nn_x_test, nn_y_test))\n",
        "nn_y_pred = clf_3.predict(nn_x_test)\n",
        "plt.title(\"Distribution of the residuals\")\n",
        "plt.hist(nn_y_test - nn_y_pred, 50)\n",
        "# y_pred = model.predict(X_test)\n",
        "print('MAD =', mean_absolute_error(nn_y_test, nn_y_pred))"
      ],
      "execution_count": null,
      "outputs": [
        {
          "output_type": "stream",
          "text": [
            "MLPRegressor(activation='relu', alpha=1e-06, batch_size='auto', beta_1=0.9,\n",
            "             beta_2=0.999, early_stopping=True, epsilon=1e-08,\n",
            "             hidden_layer_sizes=(9, 6), learning_rate='constant',\n",
            "             learning_rate_init=0.001, max_fun=15000, max_iter=20000,\n",
            "             momentum=0.9, n_iter_no_change=10, nesterovs_momentum=True,\n",
            "             power_t=0.5, random_state=1, shuffle=True, solver='lbfgs',\n",
            "             tol=0.0001, validation_fraction=0.1, verbose=False,\n",
            "             warm_start=False)\n",
            "Score = 0.37895836758363133\n",
            "MAD = 0.2964532226137646\n"
          ],
          "name": "stdout"
        },
        {
          "output_type": "display_data",
          "data": {
            "image/png": "[encoded data removed]",
            "text/plain": [
              "<Figure size 432x288 with 1 Axes>"
            ]
          },
          "metadata": {
            "tags": [],
            "needs_background": "light"
          }
        }
      ]
    },
    {
      "cell_type": "code",
      "metadata": {
        "ExecuteTime": {
          "end_time": "2020-01-17T20:46:11.712857Z",
          "start_time": "2020-01-17T20:44:44.806489Z"
        },
        "id": "8MbFXyRBkduZ"
      },
      "source": [
        "score_opt = 0\n",
        "mad_opt = 100\n",
        "mad_at_opt_score = 100\n",
        "score_at_opt_mad = 0\n",
        "score_i, score_j = 0, 0\n",
        "mad_i, mad_j = 0, 0\n",
        "max_i = 10\n",
        "max_j = 10\n",
        "for i in range(1, max_i):\n",
        "    for j in range(1, max_j):\n",
        "        clf_itr = MLPRegressor(solver='lbfgs', alpha=1e-6, hidden_layer_sizes=(i, j), random_state=1, max_iter=20000, early_stopping = True)\n",
        "#         print(clf_itr.fit(nn_x_train, nn_y_train))\n",
        "#         print('Score =', clf_itr.score(nn_x_test, nn_y_test))\n",
        "        clf_itr.fit(nn_x_train, nn_y_train)\n",
        "        score_itr = clf_itr.score(nn_x_test, nn_y_test)\n",
        "        itr_y_pred = clf_itr.predict(nn_x_test)\n",
        "        mad_itr = mean_absolute_error(nn_y_test, itr_y_pred)\n",
        "        if score_itr > score_opt:\n",
        "            score_i, score_j = i, j\n",
        "            score_opt = score_itr\n",
        "            mad_at_opt_score = mad_itr\n",
        "        if mad_itr < mad_opt:\n",
        "            mad_i, mad_j = i, j\n",
        "            mad_opt = mad_itr\n",
        "            score_at_opt_mad = score_itr"
      ],
      "execution_count": null,
      "outputs": []
    },
    {
      "cell_type": "code",
      "metadata": {
        "ExecuteTime": {
          "end_time": "2020-01-17T20:46:11.721854Z",
          "start_time": "2020-01-17T20:46:11.714848Z"
        },
        "id": "h3tQKHkHkduZ",
        "outputId": "2b867f04-9f9f-408f-a126-68504dc7c1ce"
      },
      "source": [
        "print(\"Optimal score =\", score_opt)\n",
        "print(\"MAD at optimal score =\", mad_at_opt_score)\n",
        "print(\"Optimal score layer sizes =\", score_i, score_j)\n",
        "print(\"Optimal MAD =\", mad_opt)\n",
        "print(\"Score at optimal MAD =\", score_at_opt_mad)\n",
        "print(\"Optimal MAD layer sizes =\", mad_i, mad_j)"
      ],
      "execution_count": null,
      "outputs": [
        {
          "output_type": "stream",
          "text": [
            "Optimal score = 0.37895836758363133\n",
            "MAD at optimal score = 0.2964532226137646\n",
            "Optimal score layer sizes = 9 6\n",
            "Optimal MAD = 0.29429661761107184\n",
            "Score at optimal MAD = 0.37244655870783905\n",
            "Optimal MAD layer sizes = 6 7\n"
          ],
          "name": "stdout"
        }
      ]
    },
    {
      "cell_type": "code",
      "metadata": {
        "ExecuteTime": {
          "end_time": "2020-01-17T20:46:13.969392Z",
          "start_time": "2020-01-17T20:46:11.724851Z"
        },
        "id": "O__oqHffkduZ",
        "outputId": "456d99f2-f9fa-4924-af0f-cf6a825eecae"
      },
      "source": [
        "# Choosing the optimal classifier and training on entire training data\n",
        "\n",
        "clf_opt = MLPRegressor(solver='lbfgs', alpha=1e-6, hidden_layer_sizes=(score_i, score_j), random_state=1, max_iter=20000, early_stopping = True)\n",
        "clf_opt.fit(nn_x, nn_y)"
      ],
      "execution_count": null,
      "outputs": [
        {
          "output_type": "execute_result",
          "data": {
            "text/plain": [
              "MLPRegressor(activation='relu', alpha=1e-06, batch_size='auto', beta_1=0.9,\n",
              "             beta_2=0.999, early_stopping=True, epsilon=1e-08,\n",
              "             hidden_layer_sizes=(9, 6), learning_rate='constant',\n",
              "             learning_rate_init=0.001, max_fun=15000, max_iter=20000,\n",
              "             momentum=0.9, n_iter_no_change=10, nesterovs_momentum=True,\n",
              "             power_t=0.5, random_state=1, shuffle=True, solver='lbfgs',\n",
              "             tol=0.0001, validation_fraction=0.1, verbose=False,\n",
              "             warm_start=False)"
            ]
          },
          "metadata": {
            "tags": []
          },
          "execution_count": 97
        }
      ]
    },
    {
      "cell_type": "markdown",
      "metadata": {
        "id": "Q9hzrgeskduZ"
      },
      "source": [
        "### Simulate the forecasting\n",
        "\n",
        "The `weather_test.csv` file contains the weather data that was held out from `weather_train.csv` used for training the solar panel output predictor. This data simulates the weather forcasts and is used for evaluating how your model would perform if it was deployed."
      ]
    },
    {
      "cell_type": "code",
      "metadata": {
        "ExecuteTime": {
          "end_time": "2020-01-17T20:46:14.016909Z",
          "start_time": "2020-01-17T20:46:13.971392Z"
        },
        "id": "8GOceme7kduZ",
        "outputId": "aed44500-7188-41d1-d664-324b14f94120"
      },
      "source": [
        "weather_test = pd.read_csv('./data/weather_test.csv')\n",
        "weather_test.head()"
      ],
      "execution_count": null,
      "outputs": [
        {
          "output_type": "execute_result",
          "data": {
            "text/html": [
              "<div>\n",
              "<style scoped>\n",
              "    .dataframe tbody tr th:only-of-type {\n",
              "        vertical-align: middle;\n",
              "    }\n",
              "\n",
              "    .dataframe tbody tr th {\n",
              "        vertical-align: top;\n",
              "    }\n",
              "\n",
              "    .dataframe thead th {\n",
              "        text-align: right;\n",
              "    }\n",
              "</style>\n",
              "<table border=\"1\" class=\"dataframe\">\n",
              "  <thead>\n",
              "    <tr style=\"text-align: right;\">\n",
              "      <th></th>\n",
              "      <th>time</th>\n",
              "      <th>clouds</th>\n",
              "      <th>temperature</th>\n",
              "      <th>humidity</th>\n",
              "      <th>wind direction</th>\n",
              "      <th>wind speed</th>\n",
              "      <th>visibility</th>\n",
              "      <th>air pressure</th>\n",
              "      <th>year</th>\n",
              "    </tr>\n",
              "  </thead>\n",
              "  <tbody>\n",
              "    <tr>\n",
              "      <th>0</th>\n",
              "      <td>2017-01-25T00:00:00Z</td>\n",
              "      <td>0</td>\n",
              "      <td>-0.3</td>\n",
              "      <td>91.0</td>\n",
              "      <td>OZO</td>\n",
              "      <td>1.0</td>\n",
              "      <td>3170.0</td>\n",
              "      <td>1031.2</td>\n",
              "      <td>2017</td>\n",
              "    </tr>\n",
              "    <tr>\n",
              "      <th>1</th>\n",
              "      <td>2017-01-25T00:10:00Z</td>\n",
              "      <td>0</td>\n",
              "      <td>-0.4</td>\n",
              "      <td>90.0</td>\n",
              "      <td>O</td>\n",
              "      <td>2.0</td>\n",
              "      <td>3160.0</td>\n",
              "      <td>1031.2</td>\n",
              "      <td>2017</td>\n",
              "    </tr>\n",
              "    <tr>\n",
              "      <th>2</th>\n",
              "      <td>2017-01-25T00:20:00Z</td>\n",
              "      <td>0</td>\n",
              "      <td>-0.4</td>\n",
              "      <td>90.0</td>\n",
              "      <td>OZO</td>\n",
              "      <td>2.0</td>\n",
              "      <td>2970.0</td>\n",
              "      <td>1031.1</td>\n",
              "      <td>2017</td>\n",
              "    </tr>\n",
              "    <tr>\n",
              "      <th>3</th>\n",
              "      <td>2017-01-25T00:30:00Z</td>\n",
              "      <td>0</td>\n",
              "      <td>-0.3</td>\n",
              "      <td>91.0</td>\n",
              "      <td>ZZO</td>\n",
              "      <td>2.0</td>\n",
              "      <td>2940.0</td>\n",
              "      <td>1031.0</td>\n",
              "      <td>2017</td>\n",
              "    </tr>\n",
              "    <tr>\n",
              "      <th>4</th>\n",
              "      <td>2017-01-25T00:40:00Z</td>\n",
              "      <td>0</td>\n",
              "      <td>-0.3</td>\n",
              "      <td>90.0</td>\n",
              "      <td>ZO</td>\n",
              "      <td>1.0</td>\n",
              "      <td>2980.0</td>\n",
              "      <td>1031.0</td>\n",
              "      <td>2017</td>\n",
              "    </tr>\n",
              "  </tbody>\n",
              "</table>\n",
              "</div>"
            ],
            "text/plain": [
              "                   time  clouds  temperature  humidity wind direction  \\\n",
              "0  2017-01-25T00:00:00Z       0         -0.3      91.0            OZO   \n",
              "1  2017-01-25T00:10:00Z       0         -0.4      90.0              O   \n",
              "2  2017-01-25T00:20:00Z       0         -0.4      90.0            OZO   \n",
              "3  2017-01-25T00:30:00Z       0         -0.3      91.0            ZZO   \n",
              "4  2017-01-25T00:40:00Z       0         -0.3      90.0             ZO   \n",
              "\n",
              "   wind speed  visibility  air pressure  year  \n",
              "0         1.0      3170.0        1031.2  2017  \n",
              "1         2.0      3160.0        1031.2  2017  \n",
              "2         2.0      2970.0        1031.1  2017  \n",
              "3         2.0      2940.0        1031.0  2017  \n",
              "4         1.0      2980.0        1031.0  2017  "
            ]
          },
          "metadata": {
            "tags": []
          },
          "execution_count": 98
        }
      ]
    },
    {
      "cell_type": "markdown",
      "metadata": {
        "id": "PI4UGueEkdua"
      },
      "source": [
        "Provide the predictions for the hourly solar panel output for the given weather forecasts, i.e. populate the `production` column in the following data frame:"
      ]
    },
    {
      "cell_type": "code",
      "metadata": {
        "ExecuteTime": {
          "end_time": "2020-01-17T20:46:15.753608Z",
          "start_time": "2020-01-17T20:46:14.018910Z"
        },
        "scrolled": true,
        "id": "_fYcMEJ7kdua",
        "outputId": "ff75c484-ac57-4023-ce88-65590efe1d54"
      },
      "source": [
        "prediction = weather_test.copy()\n",
        "times = pd.to_datetime(prediction[\"time\"])\n",
        "prediction['month'] = times.dt.month\n",
        "prediction['day'] = times.dt.dayofyear\n",
        "prediction['hour'] = times.dt.hour\n",
        "prediction = prediction.drop(prediction[prediction['hour'] == 0].index)\n",
        "prediction = prediction[['month', 'day', 'hour']]\n",
        "prediction = prediction.drop_duplicates().reset_index(drop=True)\n",
        "prediction['production'] = np.nan\n",
        "prediction.head()"
      ],
      "execution_count": null,
      "outputs": [
        {
          "output_type": "execute_result",
          "data": {
            "text/html": [
              "<div>\n",
              "<style scoped>\n",
              "    .dataframe tbody tr th:only-of-type {\n",
              "        vertical-align: middle;\n",
              "    }\n",
              "\n",
              "    .dataframe tbody tr th {\n",
              "        vertical-align: top;\n",
              "    }\n",
              "\n",
              "    .dataframe thead th {\n",
              "        text-align: right;\n",
              "    }\n",
              "</style>\n",
              "<table border=\"1\" class=\"dataframe\">\n",
              "  <thead>\n",
              "    <tr style=\"text-align: right;\">\n",
              "      <th></th>\n",
              "      <th>month</th>\n",
              "      <th>day</th>\n",
              "      <th>hour</th>\n",
              "      <th>production</th>\n",
              "    </tr>\n",
              "  </thead>\n",
              "  <tbody>\n",
              "    <tr>\n",
              "      <th>0</th>\n",
              "      <td>1</td>\n",
              "      <td>25</td>\n",
              "      <td>1</td>\n",
              "      <td>NaN</td>\n",
              "    </tr>\n",
              "    <tr>\n",
              "      <th>1</th>\n",
              "      <td>1</td>\n",
              "      <td>25</td>\n",
              "      <td>2</td>\n",
              "      <td>NaN</td>\n",
              "    </tr>\n",
              "    <tr>\n",
              "      <th>2</th>\n",
              "      <td>1</td>\n",
              "      <td>25</td>\n",
              "      <td>3</td>\n",
              "      <td>NaN</td>\n",
              "    </tr>\n",
              "    <tr>\n",
              "      <th>3</th>\n",
              "      <td>1</td>\n",
              "      <td>25</td>\n",
              "      <td>4</td>\n",
              "      <td>NaN</td>\n",
              "    </tr>\n",
              "    <tr>\n",
              "      <th>4</th>\n",
              "      <td>1</td>\n",
              "      <td>25</td>\n",
              "      <td>5</td>\n",
              "      <td>NaN</td>\n",
              "    </tr>\n",
              "  </tbody>\n",
              "</table>\n",
              "</div>"
            ],
            "text/plain": [
              "   month  day  hour  production\n",
              "0      1   25     1         NaN\n",
              "1      1   25     2         NaN\n",
              "2      1   25     3         NaN\n",
              "3      1   25     4         NaN\n",
              "4      1   25     5         NaN"
            ]
          },
          "metadata": {
            "tags": []
          },
          "execution_count": 99
        }
      ]
    },
    {
      "cell_type": "markdown",
      "metadata": {
        "id": "bC5v4Pqzkdub"
      },
      "source": [
        "**Important:** your model will be evaluated on the held out test set. It is therefore safe to train your *final* model on the entire data set that was provided (rather than the X_train, y_train subsets from the train/test split above), to captures all of the information that is available to you."
      ]
    },
    {
      "cell_type": "markdown",
      "metadata": {
        "id": "Slr39jpjkdub"
      },
      "source": [
        "### Question 14\n",
        "\n",
        "Fill in the `'production'` column in the prediction data frame with your predictions (do not reorder the rows). Assign the values from the `'production`' column as a Python list to the variable `forecast`."
      ]
    },
    {
      "cell_type": "code",
      "metadata": {
        "ExecuteTime": {
          "end_time": "2020-01-17T20:46:15.782575Z",
          "start_time": "2020-01-17T20:46:15.756577Z"
        },
        "id": "dzA60R_vkdub",
        "outputId": "236613aa-9d92-4742-879a-de7b7daeecf1"
      },
      "source": [
        "q14_prediction = prediction.copy()\n",
        "q14_weather = weather_test.copy()\n",
        "print(q14_prediction)\n",
        "print(q14_weather)"
      ],
      "execution_count": null,
      "outputs": [
        {
          "output_type": "stream",
          "text": [
            "     month  day  hour  production\n",
            "0        1   25     1         NaN\n",
            "1        1   25     2         NaN\n",
            "2        1   25     3         NaN\n",
            "3        1   25     4         NaN\n",
            "4        1   25     5         NaN\n",
            "..     ...  ...   ...         ...\n",
            "800      5  151    21         NaN\n",
            "801      5  151    22         NaN\n",
            "802      5  151    23         NaN\n",
            "803      4  116     1         NaN\n",
            "804      4  116     2         NaN\n",
            "\n",
            "[805 rows x 4 columns]\n",
            "                      time  clouds  temperature  humidity wind direction  \\\n",
            "0     2017-01-25T00:00:00Z       0         -0.3      91.0            OZO   \n",
            "1     2017-01-25T00:10:00Z       0         -0.4      90.0              O   \n",
            "2     2017-01-25T00:20:00Z       0         -0.4      90.0            OZO   \n",
            "3     2017-01-25T00:30:00Z       0         -0.3      91.0            ZZO   \n",
            "4     2017-01-25T00:40:00Z       0         -0.3      90.0             ZO   \n",
            "...                    ...     ...          ...       ...            ...   \n",
            "9989  2018-05-31T23:10:00Z       2         16.6      98.0              W   \n",
            "9990  2018-05-31T23:20:00Z       2         16.7      98.0              W   \n",
            "9991  2018-05-31T23:30:00Z       2         16.6      98.0              W   \n",
            "9992  2018-05-31T23:40:00Z       2         16.5      99.0              W   \n",
            "9993  2018-05-31T23:50:00Z       2         16.7      99.0              W   \n",
            "\n",
            "      wind speed  visibility  air pressure  year  \n",
            "0            1.0      3170.0        1031.2  2017  \n",
            "1            2.0      3160.0        1031.2  2017  \n",
            "2            2.0      2970.0        1031.1  2017  \n",
            "3            2.0      2940.0        1031.0  2017  \n",
            "4            1.0      2980.0        1031.0  2017  \n",
            "...          ...         ...           ...   ...  \n",
            "9989         1.0      3660.0        1015.0  2018  \n",
            "9990         1.0      2870.0        1014.9  2018  \n",
            "9991         0.0      2240.0        1014.9  2018  \n",
            "9992         1.0      2240.0        1015.2  2018  \n",
            "9993         1.0      1640.0        1015.2  2018  \n",
            "\n",
            "[9994 rows x 9 columns]\n"
          ],
          "name": "stdout"
        }
      ]
    },
    {
      "cell_type": "code",
      "metadata": {
        "ExecuteTime": {
          "end_time": "2020-01-17T20:46:15.858827Z",
          "start_time": "2020-01-17T20:46:15.787577Z"
        },
        "id": "-QntzYZnkdub"
      },
      "source": [
        "q14_times = pd.to_datetime(q14_weather[\"time\"])\n",
        "q14_weather_modified = q14_weather.groupby([q14_times.dt.month, q14_times.dt.dayofyear, q14_times.dt.hour])[\"clouds\", \"air pressure\", \"visibility\", \"temperature\", \"humidity\", \"wind speed\"].agg(np.mean)\n",
        "q14_weather_modified.index.names = [\"month\", \"day\", \"hour\"]\n",
        "# print(q14_weather_modified)\n",
        "q14_weather_modified = q14_weather_modified.reset_index()\n",
        "q14_weather_modified = q14_weather_modified.drop(q14_weather_modified[q14_weather_modified['hour'] == 0].index)\n",
        "q14_weather_modified = q14_weather_modified.reset_index()\n",
        "\n",
        "# ws_data = pd.merge(energy, ws_weather).dropna().reset_index(drop=True)\n",
        "# print(q14_weather_modified)\n",
        "q14_weather_modified = q14_weather_modified[['month', 'day', 'hour', \"clouds\", \"air pressure\", \"visibility\", \"temperature\", \"humidity\", \"wind speed\"]]\n",
        "q14_weather_modified = q14_weather_modified.drop_duplicates().reset_index(drop=True)\n",
        "# print(q14_weather_modified)"
      ],
      "execution_count": null,
      "outputs": []
    },
    {
      "cell_type": "code",
      "metadata": {
        "ExecuteTime": {
          "end_time": "2020-01-17T20:46:15.868575Z",
          "start_time": "2020-01-17T20:46:15.859576Z"
        },
        "id": "FCDt75Qbkdub"
      },
      "source": [
        "# print(q14_prediction)\n",
        "q14_combined_data = pd.merge(q14_prediction, q14_weather_modified)\n",
        "# print(q14_combined_data)"
      ],
      "execution_count": null,
      "outputs": []
    },
    {
      "cell_type": "code",
      "metadata": {
        "ExecuteTime": {
          "end_time": "2020-01-17T20:46:15.896110Z",
          "start_time": "2020-01-17T20:46:15.870576Z"
        },
        "id": "LgXpLsFikduc"
      },
      "source": [
        "#// BEGIN_TODO [Q14]\n",
        "q14_x = q14_combined_data[[\"day\", \"hour\", \"clouds\", \"air pressure\", \"visibility\", \"temperature\", \"humidity\", \"wind speed\"]].values\n",
        "q14_y_pred = clf_opt.predict(q14_x)\n",
        "# print(q14_y_pred)\n",
        "#// END_TODO [Q14]"
      ],
      "execution_count": null,
      "outputs": []
    },
    {
      "cell_type": "code",
      "metadata": {
        "ExecuteTime": {
          "end_time": "2020-01-17T20:46:15.914125Z",
          "start_time": "2020-01-17T20:46:15.898093Z"
        },
        "id": "TofAf_Iakduc"
      },
      "source": [
        "q14_combined_data['production'] = q14_y_pred\n",
        "# performing modification to make negative values 0 \n",
        "# print(q14_combined_data)\n",
        "q14_combined_data.loc[q14_combined_data['production'] < 0, 'production'] = 0\n",
        "# print(q14_combined_data)"
      ],
      "execution_count": null,
      "outputs": []
    },
    {
      "cell_type": "code",
      "metadata": {
        "ExecuteTime": {
          "end_time": "2020-01-17T20:46:15.939098Z",
          "start_time": "2020-01-17T20:46:15.916093Z"
        },
        "id": "UdE85sIokduc",
        "outputId": "0aa83d2b-666c-4b9e-f523-1b6c3c8e2cf2"
      },
      "source": [
        "print(q14_prediction)\n",
        "print(q14_combined_data['production'])\n",
        "prediction['production'] = q14_combined_data['production']\n",
        "print(prediction)"
      ],
      "execution_count": null,
      "outputs": [
        {
          "output_type": "stream",
          "text": [
            "     month  day  hour  production\n",
            "0        1   25     1         NaN\n",
            "1        1   25     2         NaN\n",
            "2        1   25     3         NaN\n",
            "3        1   25     4         NaN\n",
            "4        1   25     5         NaN\n",
            "..     ...  ...   ...         ...\n",
            "800      5  151    21         NaN\n",
            "801      5  151    22         NaN\n",
            "802      5  151    23         NaN\n",
            "803      4  116     1         NaN\n",
            "804      4  116     2         NaN\n",
            "\n",
            "[805 rows x 4 columns]\n",
            "0      0.182489\n",
            "1      0.117034\n",
            "2      0.071340\n",
            "3      0.049974\n",
            "4      0.051850\n",
            "         ...   \n",
            "800    0.063256\n",
            "801    0.000000\n",
            "802    0.000000\n",
            "803    0.418710\n",
            "804    0.395454\n",
            "Name: production, Length: 805, dtype: float64\n",
            "     month  day  hour  production\n",
            "0        1   25     1    0.182489\n",
            "1        1   25     2    0.117034\n",
            "2        1   25     3    0.071340\n",
            "3        1   25     4    0.049974\n",
            "4        1   25     5    0.051850\n",
            "..     ...  ...   ...         ...\n",
            "800      5  151    21    0.063256\n",
            "801      5  151    22    0.000000\n",
            "802      5  151    23    0.000000\n",
            "803      4  116     1    0.418710\n",
            "804      4  116     2    0.395454\n",
            "\n",
            "[805 rows x 4 columns]\n"
          ],
          "name": "stdout"
        }
      ]
    },
    {
      "cell_type": "code",
      "metadata": {
        "ExecuteTime": {
          "end_time": "2020-01-17T20:46:15.947095Z",
          "start_time": "2020-01-17T20:46:15.941094Z"
        },
        "id": "lCQ2tLm8kduc"
      },
      "source": [
        "# print(prediction['production'].tolist())\n",
        "forecast = prediction['production'].tolist()\n",
        "# print(forecast)"
      ],
      "execution_count": null,
      "outputs": []
    },
    {
      "cell_type": "markdown",
      "metadata": {
        "id": "p93q_w9Tkduc"
      },
      "source": [
        "For automating the evaluation of your predictions, call the evaluate function that is defined in the `evaluate.py` script (do not edit the code lines below!):"
      ]
    },
    {
      "cell_type": "code",
      "metadata": {
        "ExecuteTime": {
          "end_time": "2020-01-17T20:46:15.964095Z",
          "start_time": "2020-01-17T20:46:15.949096Z"
        },
        "scrolled": true,
        "id": "VStfME26kduc",
        "outputId": "f649b488-c09e-431f-e207-ec13f55cde21"
      },
      "source": [
        "from evaluate_stub import *\n",
        "evaluate(prediction)"
      ],
      "execution_count": null,
      "outputs": [
        {
          "output_type": "execute_result",
          "data": {
            "text/plain": [
              "'This is a stub for the evaluation function. The real implementation will compare your predictions with the held out production measurements.'"
            ]
          },
          "metadata": {
            "tags": []
          },
          "execution_count": 107
        }
      ]
    },
    {
      "cell_type": "markdown",
      "metadata": {
        "id": "_H6UVhyGkdud"
      },
      "source": [
        "As a sanity check, make sure that the `prediction` data frame contains a `production` column and 805 rows.\n",
        "\n",
        "Your solution will be evaluated based on the mean absolute error metric."
      ]
    },
    {
      "cell_type": "markdown",
      "metadata": {
        "id": "Akl-PF6Jkdud"
      },
      "source": [
        "### Reliability\n",
        "\n",
        "We often assume that the trained model will operate on data from the same distribution as the data it was trained on (see Chapter 1 of the book \"Dataset Shift in Machine Learning\"). However, sometimes these assumptions are not true.\n",
        "\n",
        "Using the model you trained for question 13, evaluate the model's performance on the data set provided below. It contains the weather, production and consumption data for the year 2019, preprocessed into a single .csv file."
      ]
    },
    {
      "cell_type": "code",
      "metadata": {
        "ExecuteTime": {
          "end_time": "2020-01-17T20:46:16.016095Z",
          "start_time": "2020-01-17T20:46:15.966093Z"
        },
        "id": "6aOtulgRkdud",
        "outputId": "5e0729a7-3114-48da-e3a8-c8f796c55d9a"
      },
      "source": [
        "weather_energy = pd.read_csv('./data/weather_energy_2019.csv')\n",
        "weather_energy.head()"
      ],
      "execution_count": null,
      "outputs": [
        {
          "output_type": "execute_result",
          "data": {
            "text/html": [
              "<div>\n",
              "<style scoped>\n",
              "    .dataframe tbody tr th:only-of-type {\n",
              "        vertical-align: middle;\n",
              "    }\n",
              "\n",
              "    .dataframe tbody tr th {\n",
              "        vertical-align: top;\n",
              "    }\n",
              "\n",
              "    .dataframe thead th {\n",
              "        text-align: right;\n",
              "    }\n",
              "</style>\n",
              "<table border=\"1\" class=\"dataframe\">\n",
              "  <thead>\n",
              "    <tr style=\"text-align: right;\">\n",
              "      <th></th>\n",
              "      <th>index</th>\n",
              "      <th>year</th>\n",
              "      <th>month</th>\n",
              "      <th>day</th>\n",
              "      <th>hour</th>\n",
              "      <th>production</th>\n",
              "      <th>consumption</th>\n",
              "      <th>clouds</th>\n",
              "      <th>temperature</th>\n",
              "      <th>humidity</th>\n",
              "      <th>wind speed</th>\n",
              "      <th>visibility</th>\n",
              "      <th>air pressure</th>\n",
              "    </tr>\n",
              "  </thead>\n",
              "  <tbody>\n",
              "    <tr>\n",
              "      <th>0</th>\n",
              "      <td>35</td>\n",
              "      <td>2019</td>\n",
              "      <td>1</td>\n",
              "      <td>2</td>\n",
              "      <td>10</td>\n",
              "      <td>0.3</td>\n",
              "      <td>3.215163</td>\n",
              "      <td>0.0</td>\n",
              "      <td>35.768333</td>\n",
              "      <td>76.500000</td>\n",
              "      <td>4.500000</td>\n",
              "      <td>20050.000000</td>\n",
              "      <td>1037.650000</td>\n",
              "    </tr>\n",
              "    <tr>\n",
              "      <th>1</th>\n",
              "      <td>36</td>\n",
              "      <td>2019</td>\n",
              "      <td>1</td>\n",
              "      <td>2</td>\n",
              "      <td>11</td>\n",
              "      <td>0.3</td>\n",
              "      <td>3.982344</td>\n",
              "      <td>0.0</td>\n",
              "      <td>35.621667</td>\n",
              "      <td>75.833333</td>\n",
              "      <td>4.666667</td>\n",
              "      <td>20283.333333</td>\n",
              "      <td>1037.550000</td>\n",
              "    </tr>\n",
              "    <tr>\n",
              "      <th>2</th>\n",
              "      <td>37</td>\n",
              "      <td>2019</td>\n",
              "      <td>1</td>\n",
              "      <td>2</td>\n",
              "      <td>12</td>\n",
              "      <td>0.3</td>\n",
              "      <td>3.550910</td>\n",
              "      <td>0.0</td>\n",
              "      <td>35.383333</td>\n",
              "      <td>72.333333</td>\n",
              "      <td>5.000000</td>\n",
              "      <td>19133.333333</td>\n",
              "      <td>1037.433333</td>\n",
              "    </tr>\n",
              "    <tr>\n",
              "      <th>3</th>\n",
              "      <td>38</td>\n",
              "      <td>2019</td>\n",
              "      <td>1</td>\n",
              "      <td>2</td>\n",
              "      <td>13</td>\n",
              "      <td>0.2</td>\n",
              "      <td>3.372008</td>\n",
              "      <td>0.0</td>\n",
              "      <td>35.530000</td>\n",
              "      <td>73.833333</td>\n",
              "      <td>4.833333</td>\n",
              "      <td>15700.000000</td>\n",
              "      <td>1037.616667</td>\n",
              "    </tr>\n",
              "    <tr>\n",
              "      <th>4</th>\n",
              "      <td>39</td>\n",
              "      <td>2019</td>\n",
              "      <td>1</td>\n",
              "      <td>2</td>\n",
              "      <td>14</td>\n",
              "      <td>0.2</td>\n",
              "      <td>3.838542</td>\n",
              "      <td>0.5</td>\n",
              "      <td>35.713333</td>\n",
              "      <td>71.500000</td>\n",
              "      <td>3.833333</td>\n",
              "      <td>16350.000000</td>\n",
              "      <td>1037.883333</td>\n",
              "    </tr>\n",
              "  </tbody>\n",
              "</table>\n",
              "</div>"
            ],
            "text/plain": [
              "   index  year  month  day  hour  production  consumption  clouds  \\\n",
              "0     35  2019      1    2    10         0.3     3.215163     0.0   \n",
              "1     36  2019      1    2    11         0.3     3.982344     0.0   \n",
              "2     37  2019      1    2    12         0.3     3.550910     0.0   \n",
              "3     38  2019      1    2    13         0.2     3.372008     0.0   \n",
              "4     39  2019      1    2    14         0.2     3.838542     0.5   \n",
              "\n",
              "   temperature   humidity  wind speed    visibility  air pressure  \n",
              "0    35.768333  76.500000    4.500000  20050.000000   1037.650000  \n",
              "1    35.621667  75.833333    4.666667  20283.333333   1037.550000  \n",
              "2    35.383333  72.333333    5.000000  19133.333333   1037.433333  \n",
              "3    35.530000  73.833333    4.833333  15700.000000   1037.616667  \n",
              "4    35.713333  71.500000    3.833333  16350.000000   1037.883333  "
            ]
          },
          "metadata": {
            "tags": []
          },
          "execution_count": 108
        }
      ]
    },
    {
      "cell_type": "code",
      "metadata": {
        "ExecuteTime": {
          "end_time": "2020-01-17T20:46:16.024094Z",
          "start_time": "2020-01-17T20:46:16.018096Z"
        },
        "id": "ykNd3n7ckdud"
      },
      "source": [
        "# TODO: Evaluate the model from previous question on the new data\n",
        "q15_weather_energy = weather_energy.copy()"
      ],
      "execution_count": null,
      "outputs": []
    },
    {
      "cell_type": "code",
      "metadata": {
        "ExecuteTime": {
          "end_time": "2020-01-17T20:46:16.436299Z",
          "start_time": "2020-01-17T20:46:16.035093Z"
        },
        "id": "13KsbvU_kdud",
        "outputId": "1846dfe1-fca7-4ea1-8635-093c94d082a9"
      },
      "source": [
        "print(q15_weather_energy.dtypes)\n",
        "q15_weather_energy = q15_weather_energy[[\"day\", \"hour\", \"clouds\", \"air pressure\", \"visibility\", \"temperature\", \"humidity\", \"wind speed\", \"production\"]]\n",
        "# print('---')\n",
        "q15_x = q15_weather_energy[[\"day\", \"hour\", \"clouds\", \"air pressure\", \"visibility\", \"temperature\", \"humidity\", \"wind speed\"]].values\n",
        "q15_y = q15_weather_energy[\"production\"].values\n",
        "print('Score =', clf_opt.score(q15_x, q15_y))\n",
        "q15_y_pred = clf_opt.predict(q15_x)\n",
        "plt.title(\"Distribution of the residuals\")\n",
        "plt.hist(q15_y - q15_y_pred, 50)\n",
        "# y_pred = model.predict(X_test)\n",
        "print('MAD =', mean_absolute_error(q15_y, q15_y_pred))"
      ],
      "execution_count": null,
      "outputs": [
        {
          "output_type": "stream",
          "text": [
            "index             int64\n",
            "year              int64\n",
            "month             int64\n",
            "day               int64\n",
            "hour              int64\n",
            "production      float64\n",
            "consumption     float64\n",
            "clouds          float64\n",
            "temperature     float64\n",
            "humidity        float64\n",
            "wind speed      float64\n",
            "visibility      float64\n",
            "air pressure    float64\n",
            "dtype: object\n",
            "Score = -28.234748221597762\n",
            "MAD = 0.788033185818855\n"
          ],
          "name": "stdout"
        },
        {
          "output_type": "display_data",
          "data": {
            "image/png": "[encoded data removed]",
            "text/plain": [
              "<Figure size 432x288 with 1 Axes>"
            ]
          },
          "metadata": {
            "tags": [],
            "needs_background": "light"
          }
        }
      ]
    },
    {
      "cell_type": "markdown",
      "metadata": {
        "id": "fDDi9gZTkdue"
      },
      "source": [
        "### Question 15\n",
        "\n",
        "Investigate and then explain in at most 100 words in `question_change` what you think is responsible for the change in your model's performance."
      ]
    },
    {
      "cell_type": "code",
      "metadata": {
        "ExecuteTime": {
          "end_time": "2020-01-17T20:46:16.461117Z",
          "start_time": "2020-01-17T20:46:16.438290Z"
        },
        "id": "eo3hOKDtkdue",
        "outputId": "aa9f22f4-334e-4404-d727-98ee749c9f59"
      },
      "source": [
        "# TODO: Investigate changes\n",
        "print(\"Temperature stats\")\n",
        "print(q15_weather_energy['temperature'].max())\n",
        "print(q15_weather_energy['temperature'].min())\n",
        "print(q15_weather_energy['temperature'].mean())\n",
        "print(q15_weather_energy['temperature'].std())\n",
        "\n",
        "print(\"Clouds stats\")\n",
        "print(q15_weather_energy['clouds'].mean())\n",
        "print(q15_weather_energy['clouds'].std())\n",
        "\n",
        "print(\"Visibility stats\")\n",
        "print(q15_weather_energy['visibility'].min())\n",
        "print(q15_weather_energy['visibility'].max())\n",
        "print(q15_weather_energy['visibility'].mean())\n",
        "print(q15_weather_energy['visibility'].std())\n",
        "\n",
        "print(\"Humidity stats\")\n",
        "print(q15_weather_energy['humidity'].min())\n",
        "print(q15_weather_energy['humidity'].max())\n",
        "print(q15_weather_energy['humidity'].mean())\n",
        "print(q15_weather_energy['humidity'].std())"
      ],
      "execution_count": null,
      "outputs": [
        {
          "output_type": "stream",
          "text": [
            "Temperature stats\n",
            "52.08500000000002\n",
            "0.0\n",
            "28.787447879858664\n",
            "7.7518760398556115\n",
            "Clouds stats\n",
            "1.0277465467394795\n",
            "1.1769893945661272\n",
            "Visibility stats\n",
            "64.5\n",
            "49900.0\n",
            "26307.32693543206\n",
            "13776.012869924449\n",
            "Humidity stats\n",
            "17.833333333333332\n",
            "98.83333333333331\n",
            "73.68496894742478\n",
            "18.52405670466883\n"
          ],
          "name": "stdout"
        }
      ]
    },
    {
      "cell_type": "code",
      "metadata": {
        "ExecuteTime": {
          "end_time": "2020-01-17T20:46:16.468124Z",
          "start_time": "2020-01-17T20:46:16.464178Z"
        },
        "id": "RP-0OiGqkdue"
      },
      "source": [
        "#// BEGIN_TODO [Q15]\n",
        "question_change = '''\n",
        "The date ranges are pretty similar. Tthe variation could be due to long-term seasonal changes, solar panel \n",
        "installation degradation, normal signal noise. Also, certain data ranges were also missing.\n",
        "Temperature increased to a maximum of 52 degrees with an average of 28 degrees. Previous years had a maximum of 30 degrees \n",
        "and a minimum of -8 degrees. Global warming might be causing a significant effect over all the weather conditions.\n",
        "'''\n",
        "#// END_TODO [Q15]"
      ],
      "execution_count": null,
      "outputs": []
    },
    {
      "cell_type": "markdown",
      "metadata": {
        "id": "vAIGcNG2kdue"
      },
      "source": [
        "### Question 16\n",
        "\n",
        "To make your model robust to these kind of changes, you may want to re-train it on more appropriate data. Using all the data you have been provided so far, compose more suitable training and test data sets, and assign them to `new_training_data` and `new_test_data`, respectively."
      ]
    },
    {
      "cell_type": "code",
      "metadata": {
        "ExecuteTime": {
          "end_time": "2020-01-17T21:41:20.933333Z",
          "start_time": "2020-01-17T21:41:20.923951Z"
        },
        "id": "kg2MT-Xukduf",
        "outputId": "86e58b6c-461e-44f7-8e10-e730cce068c8"
      },
      "source": [
        "#// BEGIN_TODO [Q16]\n",
        "# q16_clf_opt = MLPRegressor(solver='lbfgs', alpha=1e-6, hidden_layer_sizes=(score_i, score_j), random_state=1, max_iter=20000, early_stopping = True)\n",
        "# clf_opt.fit(nn_x, nn_y)\n",
        "q16_previous_data_x = nn_x.copy()\n",
        "# print(nn_x.shape)\n",
        "q16_previous_data_y = nn_y.copy()\n",
        "# print(nn_y.shape)\n",
        "q16_2019_data_x = q15_x.copy()\n",
        "# print(q16_2019_data_x.shape)\n",
        "q16_2019_data_y = q15_y.copy()\n",
        "# print(q16_2019_data_y.shape)\n",
        "q16_data_x = np.concatenate((q16_previous_data_x, q16_2019_data_x))\n",
        "q16_data_y = np.append(q16_previous_data_y, q16_2019_data_y)\n",
        "# print(q16_data_x.shape)\n",
        "# print(q16_data_y.shape)\n",
        "#// END_TODO [Q16]"
      ],
      "execution_count": null,
      "outputs": [
        {
          "output_type": "stream",
          "text": [
            "(5423, 8)\n",
            "(5423,)\n",
            "(6226, 8)\n",
            "(6226,)\n",
            "(11649, 8)\n",
            "(11649,)\n"
          ],
          "name": "stdout"
        }
      ]
    },
    {
      "cell_type": "code",
      "metadata": {
        "ExecuteTime": {
          "end_time": "2020-01-17T21:43:13.995744Z",
          "start_time": "2020-01-17T21:43:13.988723Z"
        },
        "id": "UF8QeSkFkduf"
      },
      "source": [
        "q16_x_train, q16_x_test, q16_y_train, q16_y_test = train_test_split(q16_data_x, q16_data_y, test_size=0.2, random_state=42)\n",
        "new_training_data = [q16_x_train, q16_y_train]\n",
        "new_test_data = [q16_x_test, q16_y_test]"
      ],
      "execution_count": null,
      "outputs": []
    },
    {
      "cell_type": "markdown",
      "metadata": {
        "id": "2jhJNicekduf"
      },
      "source": [
        "### Predicting consumption"
      ]
    },
    {
      "cell_type": "markdown",
      "metadata": {
        "id": "iH8bTyppkduf"
      },
      "source": [
        "Besides solar production, we are also interested in predicting energy consumption. Being able to accurately predict the power bill may save us from any surprises in the future. "
      ]
    },
    {
      "cell_type": "markdown",
      "metadata": {
        "id": "YYKA1lA4kdug"
      },
      "source": [
        "### Question 17\n",
        "\n",
        "Consumption may depend on other factors than production, so we may need to reconsider the features we chose in question 12. Considering the new training target, which two features from question 12 are most promising for the prediction of energy consumption? Assign them to `question_consumption_features`."
      ]
    },
    {
      "cell_type": "code",
      "metadata": {
        "ExecuteTime": {
          "end_time": "2020-01-17T20:46:16.496946Z",
          "start_time": "2020-01-17T20:46:16.476920Z"
        },
        "id": "QqJ_9hTWkdug"
      },
      "source": [
        "#// BEGIN_TODO [Q17]\n",
        "#// END_TODO [Q17]"
      ],
      "execution_count": null,
      "outputs": []
    },
    {
      "cell_type": "markdown",
      "metadata": {
        "id": "aOPwBuoCkdug"
      },
      "source": [
        "Train and evaluate your new model on the data in `data` (do not include the data from `weather_energy`) to predict the energy consumption."
      ]
    },
    {
      "cell_type": "code",
      "metadata": {
        "ExecuteTime": {
          "end_time": "2020-01-17T20:46:16.503965Z",
          "start_time": "2020-01-17T20:46:16.499925Z"
        },
        "id": "z9lDQN8tkdug"
      },
      "source": [
        "# TODO: Train a new model to predict energy consumption"
      ],
      "execution_count": null,
      "outputs": []
    },
    {
      "cell_type": "markdown",
      "metadata": {
        "id": "_mpLQIlskdug"
      },
      "source": [
        "### Question 18\n",
        "\n",
        "As in question 15, check this new model's performance when predicting the energy consumption for the data in `weather_energy`. Is there a shift taking place in the data underlying the model? If so, what kind of shift do you think it is? Assign your answer to `question_consumption_shift`.\n",
        "\n",
        "1. Sample covariate shift\n",
        "2. Source component shift\n",
        "3. No shift"
      ]
    },
    {
      "cell_type": "code",
      "metadata": {
        "ExecuteTime": {
          "end_time": "2020-01-17T20:46:16.517062Z",
          "start_time": "2020-01-17T20:46:16.506919Z"
        },
        "id": "LLHVUCEWkdug"
      },
      "source": [
        "#// BEGIN_TODO [Q18]\n",
        "#// END_TODO [Q18]"
      ],
      "execution_count": null,
      "outputs": []
    },
    {
      "cell_type": "markdown",
      "metadata": {
        "id": "AP-BCw6fkdug"
      },
      "source": [
        "# Feedback\n",
        "\n",
        "Please fill in this questionaire to help us improve this course for the next year. Your feedback will be anonymized and will not affect your grade in any way!"
      ]
    },
    {
      "cell_type": "markdown",
      "metadata": {
        "id": "D8DV92fUkduh"
      },
      "source": [
        "### How many hours did you spend on these Exercises?\n",
        "\n",
        "Assign a number to `feedback_time`."
      ]
    },
    {
      "cell_type": "code",
      "metadata": {
        "ExecuteTime": {
          "end_time": "2020-01-17T20:46:16.532066Z",
          "start_time": "2020-01-17T20:46:16.518933Z"
        },
        "scrolled": true,
        "id": "dqdVkdiIkduh"
      },
      "source": [
        "#// BEGIN_TODO [Feedback_1]\n",
        "feedback_time = 80\n",
        "#// END_TODO [Feedback_1]"
      ],
      "execution_count": null,
      "outputs": []
    },
    {
      "cell_type": "markdown",
      "metadata": {
        "id": "QYL-sIWkkduh"
      },
      "source": [
        "### How difficult did you find these Exercises?\n",
        "\n",
        "Assign an integer to `feedback_difficulty`, on a scale 1 - 10, with 1 being very easy."
      ]
    },
    {
      "cell_type": "code",
      "metadata": {
        "ExecuteTime": {
          "end_time": "2020-01-17T20:46:16.539925Z",
          "start_time": "2020-01-17T20:46:16.534920Z"
        },
        "id": "EnQVAKbhkduh"
      },
      "source": [
        "#// BEGIN_TODO [Feedback_2]\n",
        "feedback_difficulty = 7\n",
        "#// END_TODO [Feedback_2]"
      ],
      "execution_count": null,
      "outputs": []
    },
    {
      "cell_type": "markdown",
      "metadata": {
        "id": "K_f5UScIkduh"
      },
      "source": [
        "### Did you take the course Foundations of Data Mining?\n",
        "\n",
        "Assign a boolean value to `feedback_foundations` (True or False)."
      ]
    },
    {
      "cell_type": "code",
      "metadata": {
        "ExecuteTime": {
          "end_time": "2020-01-17T20:46:16.548949Z",
          "start_time": "2020-01-17T20:46:16.541918Z"
        },
        "id": "B3DSsTC-kduh"
      },
      "source": [
        "#// BEGIN_TODO [Feedback_3]\n",
        "feedback_foundations = True\n",
        "#// END_TODO [Feedback_3]"
      ],
      "execution_count": null,
      "outputs": []
    },
    {
      "cell_type": "markdown",
      "metadata": {
        "id": "9BoNkNGokduh"
      },
      "source": [
        "### Did you do any other Machine Learning-related coursework (university/workshop/online/etc)\n",
        "\n",
        "Assign an answer to `feedback_other`, describing any other coursework done."
      ]
    },
    {
      "cell_type": "code",
      "metadata": {
        "ExecuteTime": {
          "end_time": "2020-01-17T20:46:16.560921Z",
          "start_time": "2020-01-17T20:46:16.550918Z"
        },
        "id": "soXi7xD7kduh"
      },
      "source": [
        "#// BEGIN_TODO [Feedback_4]\n",
        "feedback_other = \"Recommender Systems\"\n",
        "#// END_TODO [Feedback_4]"
      ],
      "execution_count": null,
      "outputs": []
    },
    {
      "cell_type": "markdown",
      "metadata": {
        "id": "im9gqRqGkdui"
      },
      "source": [
        "### (Optional) What did you like?\n",
        "\n",
        "Assign a string to `feedback_like`."
      ]
    },
    {
      "cell_type": "code",
      "metadata": {
        "ExecuteTime": {
          "end_time": "2020-01-17T20:46:16.567918Z",
          "start_time": "2020-01-17T20:46:16.563919Z"
        },
        "id": "cWt-w_O-kdui"
      },
      "source": [
        "#// BEGIN_TODO [Feedback_5]\n",
        "#// END_TODO [Feedback_5]"
      ],
      "execution_count": null,
      "outputs": []
    },
    {
      "cell_type": "markdown",
      "metadata": {
        "id": "-W8jyG-Jkdui"
      },
      "source": [
        "### (Optional) What can be improved?\n",
        "\n",
        "Assign a string to `feedback_improve`."
      ]
    },
    {
      "cell_type": "code",
      "metadata": {
        "ExecuteTime": {
          "end_time": "2020-01-17T20:46:16.585952Z",
          "start_time": "2020-01-17T20:46:16.570917Z"
        },
        "id": "mrL1wSx3kdui"
      },
      "source": [
        "#// BEGIN_TODO [Feedback_6]\n",
        "#// END_TODO [Feedback_6]"
      ],
      "execution_count": null,
      "outputs": []
    }
  ]
}